{
 "cells": [
  {
   "cell_type": "markdown",
   "id": "3c8791f8-6cfc-4264-955b-ba662826ae1f",
   "metadata": {},
   "source": [
    "# READ ME TO GET STARTED!"
   ]
  },
  {
   "cell_type": "markdown",
   "id": "ced5827d-f6ef-46e8-aa9e-8e28f9cffc18",
   "metadata": {},
   "source": [
    "Hi everyone this is Daniel. I've written a lot of the infrastructure code so that we can do experiments quickly. The main idea is that all you have to do is write your own evaluation function (i.e. f: Board -> Scalar) and my code will handle the rest (game logic, minimax tree search, simulation, etc).\n",
    "\n",
    "In order to try your own experiments for evaluation functions, simply follow the following procedure:"
   ]
  },
  {
   "cell_type": "markdown",
   "id": "f8bcf4a9-6774-49be-a5cc-eebe059f4408",
   "metadata": {},
   "source": [
    "1. Initialize your board\n",
    "2. Initialize your agents\n",
    "3. Run your simulations!"
   ]
  },
  {
   "cell_type": "markdown",
   "id": "d8f210f2-5833-48c5-b54f-5188bad67207",
   "metadata": {},
   "source": [
    "\n",
    "\n",
    "I've implemented 2D and 3D TicTacToe boards as well as a `TicTacToe` object which can take in a board and 2 `Agent` objects. An `Agent` object will just take in a board state and spit out what it thinks the best move is -- in our experiments, we should be trying to make the *best possible agent* and verify it's the best by running simulations of agents playing against each other."
   ]
  },
  {
   "cell_type": "markdown",
   "id": "1e97bbb2-cfbd-40de-bd07-cf9556482989",
   "metadata": {},
   "source": [
    "## Simple Example: Simulating random agents in 2D"
   ]
  },
  {
   "cell_type": "markdown",
   "id": "dd1c47ce-e199-42c6-a714-44f373698b74",
   "metadata": {},
   "source": [
    "### Step 0: Import things"
   ]
  },
  {
   "cell_type": "code",
   "execution_count": 52,
   "id": "97b667ed-7554-4ab0-a58f-b31b3500f9c3",
   "metadata": {},
   "outputs": [],
   "source": [
    "from tictactoe import Board2D, TicTacToe # all tictactoe / gamelogic stuff is in tictactoe.py\n",
    "from sim import simulate # sim.py is where the simulations lie\n",
    "from agent import RandomAgent # whenever you finalize an agent, add it to agents.py!\n",
    "\n",
    "import numpy as np"
   ]
  },
  {
   "cell_type": "markdown",
   "id": "21318181-8a12-4d4f-8292-acc04f48655f",
   "metadata": {},
   "source": [
    "### Step 1: Define your board"
   ]
  },
  {
   "cell_type": "code",
   "execution_count": 33,
   "id": "64c3cd95-263d-4143-849e-04c85ad3fb08",
   "metadata": {},
   "outputs": [],
   "source": [
    "board = Board2D(board_size=3) # this defines a 3x3 gameboard, i.e. the original gameboard"
   ]
  },
  {
   "cell_type": "markdown",
   "id": "8f90cd9f-a02a-43d2-9ced-2b67561f942a",
   "metadata": {},
   "source": [
    "### Step 2: Define your agents"
   ]
  },
  {
   "cell_type": "code",
   "execution_count": 34,
   "id": "80c75a6b-1895-4af1-84cd-6dd8b51149bd",
   "metadata": {},
   "outputs": [],
   "source": [
    "rand1 = RandomAgent(name='rand1') # we can name agents to differentiate between them\n",
    "rand2 = RandomAgent(name='rand2')"
   ]
  },
  {
   "cell_type": "markdown",
   "id": "db38fc08-5894-41d1-a44c-1f8cf38fd5d2",
   "metadata": {},
   "source": [
    "### Step 3: Simulate!"
   ]
  },
  {
   "cell_type": "markdown",
   "id": "9e955552-c9a7-4055-a5c0-ced848ed6307",
   "metadata": {},
   "source": [
    "This will run as many specified games of tictactoe with the defined agents and give you a dictionary of the results."
   ]
  },
  {
   "cell_type": "code",
   "execution_count": 35,
   "id": "20541e4e-661d-43e3-b4c7-496ffa198c7f",
   "metadata": {},
   "outputs": [],
   "source": [
    "sim_results = simulate(board, rand1, rand2, num_sims=100)"
   ]
  },
  {
   "cell_type": "code",
   "execution_count": 36,
   "id": "21f9bd80-27ea-484e-a370-a6fd080299f1",
   "metadata": {},
   "outputs": [
    {
     "data": {
      "text/plain": [
       "{'draw': 32, 'rand1': 31, 'rand2': 37}"
      ]
     },
     "execution_count": 36,
     "metadata": {},
     "output_type": "execute_result"
    }
   ],
   "source": [
    "sim_results"
   ]
  },
  {
   "cell_type": "markdown",
   "id": "39da9e97-e3e6-4f4b-899b-6f997b745134",
   "metadata": {},
   "source": [
    "As you can see, here are random results, as we'd expect. "
   ]
  },
  {
   "cell_type": "markdown",
   "id": "cb4be353-c729-49e0-8d3e-a4b892ee804c",
   "metadata": {},
   "source": [
    "## Complex Example: Random behavior for nxn boards"
   ]
  },
  {
   "cell_type": "markdown",
   "id": "474c3781-0948-4c91-9ec7-72ddffb7fe92",
   "metadata": {},
   "source": [
    "One thing we might want to know is: how will this distribution change as the board size increases? Let's try this out with a bigger board."
   ]
  },
  {
   "cell_type": "code",
   "execution_count": 37,
   "id": "ed38dbb5-13fe-450c-9b5d-8576de398a93",
   "metadata": {},
   "outputs": [],
   "source": [
    "import matplotlib.pyplot as plt\n",
    "import collections\n",
    "import seaborn as sns"
   ]
  },
  {
   "cell_type": "code",
   "execution_count": 38,
   "id": "39daa8ed-4b6e-4b5d-9ec3-71265dd1b84a",
   "metadata": {},
   "outputs": [],
   "source": [
    "sns.set(style='white', context='notebook', rc={'figure.figsize':(14,10)})"
   ]
  },
  {
   "cell_type": "code",
   "execution_count": 39,
   "id": "a1a1ba76-aba3-4d75-827f-0e4411c295bb",
   "metadata": {},
   "outputs": [],
   "source": [
    "new_board = Board2D(board_size=4)"
   ]
  },
  {
   "cell_type": "code",
   "execution_count": 40,
   "id": "f3def6f5-0b5e-48dc-9fe5-1f0a8f66db26",
   "metadata": {},
   "outputs": [],
   "source": [
    "sim_results = simulate(board, rand1, rand2, num_sims=100)"
   ]
  },
  {
   "cell_type": "code",
   "execution_count": 41,
   "id": "12122b01-4af3-44ca-96e4-1da613698109",
   "metadata": {},
   "outputs": [
    {
     "data": {
      "text/plain": [
       "{'draw': 37, 'rand1': 24, 'rand2': 39}"
      ]
     },
     "execution_count": 41,
     "metadata": {},
     "output_type": "execute_result"
    }
   ],
   "source": [
    "sim_results"
   ]
  },
  {
   "cell_type": "markdown",
   "id": "845129e0-e486-4da4-b019-372d6a37523d",
   "metadata": {},
   "source": [
    "As you can see, there are a lot more draws in this one than before. Let's see how this behavior changes as we increase the board size even more."
   ]
  },
  {
   "cell_type": "code",
   "execution_count": 42,
   "id": "ffcef50e-a125-461f-8ab9-54a95f6dc147",
   "metadata": {},
   "outputs": [],
   "source": [
    "results = []\n",
    "dims = range(3, 10)\n",
    "for size in dims:\n",
    "    board = Board2D(board_size=size)\n",
    "    results.append(simulate(board, rand1, rand2, num_sims=1000))"
   ]
  },
  {
   "cell_type": "code",
   "execution_count": 43,
   "id": "b89b5cbe-b3c0-4abd-b7d7-746b44e10bfc",
   "metadata": {},
   "outputs": [
    {
     "data": {
      "text/plain": [
       "[{'draw': 341, 'rand1': 335, 'rand2': 324},\n",
       " {'draw': 518, 'rand1': 243, 'rand2': 239},\n",
       " {'draw': 690, 'rand1': 175, 'rand2': 135},\n",
       " {'draw': 786, 'rand1': 110, 'rand2': 104},\n",
       " {'draw': 877, 'rand1': 60, 'rand2': 63},\n",
       " {'draw': 936, 'rand1': 41, 'rand2': 23},\n",
       " {'draw': 959, 'rand1': 20, 'rand2': 21}]"
      ]
     },
     "execution_count": 43,
     "metadata": {},
     "output_type": "execute_result"
    }
   ],
   "source": [
    "results"
   ]
  },
  {
   "cell_type": "markdown",
   "id": "77f97124-da1c-4a80-a5c9-32ed3f4e71dd",
   "metadata": {},
   "source": [
    "As the dimensions of our board increase, we can see the number of draws is drastically increasing. Let's plot these results."
   ]
  },
  {
   "cell_type": "code",
   "execution_count": 44,
   "id": "47865be4-b3c0-4550-86d7-095e22918c30",
   "metadata": {},
   "outputs": [],
   "source": [
    "sim_values = [list(x.values()) for x in results]\n",
    "draws = [x[0]/sum(x) for x in sim_values] # get percentage\n",
    "rand1_winrate = [x[1]/sum(x) for x in sim_values]\n",
    "rand2_winrate = [x[2]/sum(x) for x in sim_values]"
   ]
  },
  {
   "cell_type": "code",
   "execution_count": 46,
   "id": "03259866-0be8-4ed5-bd25-af9384a14d10",
   "metadata": {},
   "outputs": [
    {
     "data": {
      "text/plain": [
       "<matplotlib.legend.Legend at 0x7f88e6a93be0>"
      ]
     },
     "execution_count": 46,
     "metadata": {},
     "output_type": "execute_result"
    },
    {
     "data": {
      "image/png": "[encoded data removed]",
      "text/plain": [
       "<Figure size 1008x720 with 1 Axes>"
      ]
     },
     "metadata": {},
     "output_type": "display_data"
    }
   ],
   "source": [
    "plt.plot(list(dims), draws, label='draws')\n",
    "plt.plot(list(dims), rand1_winrate, label='rand1 wins')\n",
    "plt.plot(list(dims), rand2_winrate, label='rand2 wins')\n",
    "plt.title('Game outcomes by board dimension (random agents)')\n",
    "plt.xlabel('Board size')\n",
    "plt.ylabel('% occurance')\n",
    "plt.legend()"
   ]
  },
  {
   "cell_type": "markdown",
   "id": "134cd8c0-18e8-4ab5-8882-49d8a9235e81",
   "metadata": {},
   "source": [
    "### More Complex Example: implementing our own agent"
   ]
  },
  {
   "cell_type": "markdown",
   "id": "9ef6c357-674d-4c3f-99a5-36700ac4419c",
   "metadata": {},
   "source": [
    "The main thing you need to do to create your own agent is to define your own `evaluation` function. An evaluation function needs to take in a `Node` object (look at utils.py for class definition, it's just a useful abstraction for minimax) and spit out an evaluation (i.e. how good is this position?)\n",
    "\n",
    "Let's walk through implementing a simple evaluation function and checking performance against a baseline (random agent)."
   ]
  },
  {
   "cell_type": "code",
   "execution_count": 49,
   "id": "3bd4bbd5-7567-4a57-a55c-3fb168d67a40",
   "metadata": {},
   "outputs": [],
   "source": [
    "from agent import MiniMaxAgent"
   ]
  },
  {
   "cell_type": "code",
   "execution_count": 87,
   "id": "3ce35377-2b8f-4e8b-8377-c96f5bbbb3df",
   "metadata": {},
   "outputs": [],
   "source": [
    "def dist(loc1, loc2):\n",
    "    return np.square(loc1 - loc2).sum()\n",
    "\n",
    "def dist_from_center(loc, board):\n",
    "    center = np.asarray([board.shape[0]//2, board.shape[1]//2])\n",
    "    return dist(np.asarray(loc), center)\n",
    "\n",
    "def my_eval_function(node):\n",
    "    board = node.state\n",
    "    score = 0\n",
    "    player = board.pieces[(board.current_player + 1)%2] # this *backtracks* to the previous board player \n",
    "    # i.e. gets the player we're evaluating the perspective of\n",
    "    my_pieces = zip(*np.where(board.board == player))\n",
    "    for loc in my_pieces:\n",
    "        score -= dist_from_center(loc, board.board)\n",
    "    return score + np.random.normal()"
   ]
  },
  {
   "cell_type": "markdown",
   "id": "e531d25d-5a1e-4713-9228-ced7c297a6a0",
   "metadata": {},
   "source": [
    "The above evaluation function will make our agent value playing in the center of the board, i.e. it gets penalized the further it places pieces from the center. Let's see how this does against a random agent."
   ]
  },
  {
   "cell_type": "code",
   "execution_count": 90,
   "id": "f03ef4e9-ed6f-4385-a8de-33ae8c12671f",
   "metadata": {},
   "outputs": [],
   "source": [
    "agent = MiniMaxAgent(my_eval_function, depth=1)"
   ]
  },
  {
   "cell_type": "markdown",
   "id": "45d2a3bc-d80e-4f79-a46d-ded9fa46bdeb",
   "metadata": {},
   "source": [
    "Here we just defined a new `Agent` using the `MiniMaxAgent` class. In the definition we have to specify an *evaluation* function and a *depth*. The *depth* tells the agent *how far ahead should I look?* And the eval function tells the agent how to evaluate each position it simulates ahead to. In general, for 2d you should probably set depth to 2 or 3 at max, since the higher the depth the longer it takes to run the agent."
   ]
  },
  {
   "cell_type": "markdown",
   "id": "b811e1b6-c9f0-4286-9976-423ba74b2f64",
   "metadata": {},
   "source": [
    "Let's simulate this agent against a random baseline just to compare."
   ]
  },
  {
   "cell_type": "code",
   "execution_count": 91,
   "id": "69e390aa-3fa6-45b0-95ae-8e316ac0ead3",
   "metadata": {},
   "outputs": [
    {
     "data": {
      "text/plain": [
       "{'draw': 21, 'rand1': 30, 'MiniMaxAgent': 49}"
      ]
     },
     "execution_count": 91,
     "metadata": {},
     "output_type": "execute_result"
    }
   ],
   "source": [
    "simulate(Board2D(board_size=3), rand1, agent, num_sims=100)"
   ]
  },
  {
   "cell_type": "markdown",
   "id": "9aceedcf-b4a4-4441-943c-ed34aa646edb",
   "metadata": {},
   "source": [
    "Clearly our agent is slightly better than random! Let's see how this behavior generalizes for larger board sizes. Since this evaluation function gets slower with increasing board size, for the sake of running this in a reasonable amt of time we will plot less dimensions."
   ]
  },
  {
   "cell_type": "code",
   "execution_count": null,
   "id": "87c58ebb-90b4-4a6a-ade9-6b8f8c321561",
   "metadata": {},
   "outputs": [],
   "source": [
    "results = []\n",
    "dims = range(3, 7)\n",
    "for size in dims:\n",
    "    board = Board2D(board_size=size)\n",
    "    results.append(simulate(board, rand1, agent, num_sims=50))"
   ]
  },
  {
   "cell_type": "code",
   "execution_count": null,
   "id": "38dcc4db-59f8-4fe2-846f-61cf80049ed0",
   "metadata": {},
   "outputs": [],
   "source": [
    "sim_values = [list(x.values()) for x in results]\n",
    "draws = [x[0]/sum(x) for x in sim_values] # get percentage\n",
    "rand1_winrate = [x[1]/sum(x) for x in sim_values]\n",
    "agent_winrate = [x[2]/sum(x) for x in sim_values]\n",
    "\n",
    "plt.plot(list(dims), draws, label='draws')\n",
    "plt.plot(list(dims), rand1_winrate, label='rand1 wins')\n",
    "plt.plot(list(dims), rand2_winrate, label='agent wins')\n",
    "plt.title('Game outcomes by board dimension (random agents)')\n",
    "plt.xlabel('Board size')\n",
    "plt.ylabel('% occurance')\n",
    "plt.xticks(dims)\n",
    "plt.legend()"
   ]
  },
  {
   "cell_type": "markdown",
   "id": "cf326cb0-4d7c-4a58-99cf-2606212941d5",
   "metadata": {},
   "source": [
    "As we can see, this agent (green line) does really well for the 3x3 board but then ends up being consistently beaten by the random agent for 4x4, 5x5, etc boards."
   ]
  },
  {
   "cell_type": "code",
   "execution_count": null,
   "id": "cc0ecbbd-5e19-49bd-ad60-af5aaddb9f16",
   "metadata": {},
   "outputs": [],
   "source": []
  }
 ],
 "metadata": {
  "kernelspec": {
   "display_name": "Python 3",
   "language": "python",
   "name": "python3"
  },
  "language_info": {
   "codemirror_mode": {
    "name": "ipython",
    "version": 3
   },
   "file_extension": ".py",
   "mimetype": "text/x-python",
   "name": "python",
   "nbconvert_exporter": "python",
   "pygments_lexer": "ipython3",
   "version": "3.8.6"
  }
 },
 "nbformat": 4,
 "nbformat_minor": 5
}
