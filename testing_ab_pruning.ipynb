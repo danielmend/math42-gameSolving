{
 "cells": [
  {
   "cell_type": "code",
   "execution_count": 39,
   "id": "2e146b79-3927-4171-a466-c650458e4279",
   "metadata": {},
   "outputs": [],
   "source": [
    "from tictactoe import Board2D, TicTacToe \n",
    "from sim import simulate \n",
    "from agent import RandomAgent, MiniMaxAgent\n",
    "from utils import plot_agent_results\n",
    "\n",
    "import numpy as np\n",
    "import pandas as pd"
   ]
  },
  {
   "cell_type": "code",
   "execution_count": 48,
   "id": "fff3e359-add0-4ec8-b8e9-06a60a9f683d",
   "metadata": {},
   "outputs": [],
   "source": [
    "def dist(loc1, loc2):\n",
    "    return np.square(loc1 - loc2).sum()\n",
    "\n",
    "def dist_from_center(loc, board):\n",
    "    center = np.asarray([board.shape[0]//2, board.shape[1]//2])\n",
    "    return dist(np.asarray(loc), center)\n",
    "\n",
    "def center_eval(node, player):\n",
    "    board = node.state\n",
    "    score = 0\n",
    "    # i.e. gets the player we're evaluating the perspective of\n",
    "    my_pieces = zip(*np.where(board.board == player))\n",
    "    for loc in my_pieces:\n",
    "        score -= dist_from_center(loc, board.board)\n",
    "    return score"
   ]
  },
  {
   "cell_type": "code",
   "execution_count": 49,
   "id": "bfa4ca85-b46d-4312-92c4-868a1b858397",
   "metadata": {},
   "outputs": [],
   "source": [
    "board = Board2D(board_size=3)\n",
    "\n",
    "rand1 = RandomAgent(name='rand1')\n",
    "agent = MiniMaxAgent(center_eval, depth=2, name = 'MiniMaxAgent', using_ab_pruning = False)\n",
    "agent_pruning = MiniMaxAgent(center_eval, depth=2, name = 'MiniMaxAgent With Pruning', using_ab_pruning = True)"
   ]
  },
  {
   "cell_type": "code",
   "execution_count": 50,
   "id": "c62c5b51-657d-4c8c-b2a5-706c0f293d9a",
   "metadata": {},
   "outputs": [
    {
     "name": "stdout",
     "output_type": "stream",
     "text": [
      "16.5 s ± 0 ns per loop (mean ± std. dev. of 1 run, 1 loop each)\n"
     ]
    }
   ],
   "source": [
    "result_standard = %timeit -n1 -r1 -o simulate(Board2D(board_size=3), rand1, agent, num_sims=400)"
   ]
  },
  {
   "cell_type": "code",
   "execution_count": 51,
   "id": "49ac67f8-787c-4179-8cf4-fcbad13fe9df",
   "metadata": {},
   "outputs": [
    {
     "name": "stdout",
     "output_type": "stream",
     "text": [
      "13.3 s ± 0 ns per loop (mean ± std. dev. of 1 run, 1 loop each)\n"
     ]
    }
   ],
   "source": [
    "result_pruning = %timeit -n1 -r1 -o simulate(Board2D(board_size=3), rand1, agent_pruning, num_sims=400)"
   ]
  },
  {
   "cell_type": "code",
   "execution_count": 52,
   "id": "86a9a242-e470-4cd0-b0d3-3c32afe5e9c3",
   "metadata": {},
   "outputs": [
    {
     "name": "stdout",
     "output_type": "stream",
     "text": [
      "1.5 s ± 0 ns per loop (mean ± std. dev. of 1 run, 1 loop each)\n"
     ]
    }
   ],
   "source": [
    "agent = MiniMaxAgent(center_eval, depth=1, name = 'MiniMaxAgent', using_ab_pruning = False)\n",
    "agent_pruning = MiniMaxAgent(center_eval, depth=1, name = 'MiniMaxAgent With Pruning', using_ab_pruning = True)\n",
    "time1 = %timeit -n1 -r1 -o results_d1 = simulate(Board2D(board_size=3), agent, agent_pruning, num_sims=100)"
   ]
  },
  {
   "cell_type": "code",
   "execution_count": 53,
   "id": "19d0d7d5-f9f3-469d-a843-09aabb54b453",
   "metadata": {},
   "outputs": [
    {
     "name": "stdout",
     "output_type": "stream",
     "text": [
      "7.09 s ± 0 ns per loop (mean ± std. dev. of 1 run, 1 loop each)\n"
     ]
    }
   ],
   "source": [
    "agent = MiniMaxAgent(center_eval, depth=2, name = 'MiniMaxAgent', using_ab_pruning = False)\n",
    "agent_pruning = MiniMaxAgent(center_eval, depth=2, name = 'MiniMaxAgent With Pruning', using_ab_pruning = True)\n",
    "time2 = %timeit -n1 -r1 -o results_d2 = simulate(Board2D(board_size=3), agent, agent_pruning, num_sims=100)"
   ]
  },
  {
   "cell_type": "code",
   "execution_count": 54,
   "id": "1ef5e655-6762-4b06-b5ab-97dcdad20fc8",
   "metadata": {},
   "outputs": [
    {
     "name": "stdout",
     "output_type": "stream",
     "text": [
      "29.4 s ± 0 ns per loop (mean ± std. dev. of 1 run, 1 loop each)\n"
     ]
    }
   ],
   "source": [
    "agent = MiniMaxAgent(center_eval, depth=3, name = 'MiniMaxAgent', using_ab_pruning = False)\n",
    "agent_pruning = MiniMaxAgent(center_eval, depth=3, name = 'MiniMaxAgent With Pruning', using_ab_pruning = True)\n",
    "time3 = %timeit -n1 -r1 -o results_d3 = simulate(Board2D(board_size=3), agent, agent_pruning, num_sims=100)"
   ]
  },
  {
   "cell_type": "code",
   "execution_count": 55,
   "id": "d9f2c31e-5d45-4d6b-a9ff-4ffecd698846",
   "metadata": {},
   "outputs": [
    {
     "data": {
      "image/png": "[encoded data removed]",
      "text/plain": [
       "<Figure size 432x288 with 1 Axes>"
      ]
     },
     "metadata": {
      "needs_background": "light"
     },
     "output_type": "display_data"
    }
   ],
   "source": [
    "plot_agent_results([results_d1, results_d2, results_d3], agent, agent_pruning, x=[1, 2, 3], title = 'Minimax with Pruning vs Minimax', xlabel='Depth', ylabel='Winrate')"
   ]
  },
  {
   "cell_type": "code",
   "execution_count": 56,
   "id": "c847511e-2e71-417d-8fde-cb5ecc604a60",
   "metadata": {},
   "outputs": [
    {
     "name": "stdout",
     "output_type": "stream",
     "text": [
      "709 ms ± 0 ns per loop (mean ± std. dev. of 1 run, 1 loop each)\n",
      "761 ms ± 0 ns per loop (mean ± std. dev. of 1 run, 1 loop each)\n"
     ]
    }
   ],
   "source": [
    "rand = RandomAgent(name='rand1')\n",
    "agent = MiniMaxAgent(center_eval, depth=1, name = 'MiniMaxAgent', using_ab_pruning = False)\n",
    "agent_pruning = MiniMaxAgent(center_eval, depth=1, name = 'MiniMaxAgent With Pruning', using_ab_pruning = True)\n",
    "\n",
    "time1 = %timeit -n1 -r1 -o results_d3 = simulate(Board2D(board_size=3), rand, agent, num_sims=100)\n",
    "time1_ab = %timeit -n1 -r1 -o results_d3 = simulate(Board2D(board_size=3), rand, agent_pruning, num_sims=100)"
   ]
  },
  {
   "cell_type": "code",
   "execution_count": 57,
   "id": "b82411d1-ad2c-4d7c-9c29-325b85eb7075",
   "metadata": {},
   "outputs": [
    {
     "name": "stdout",
     "output_type": "stream",
     "text": [
      "4.08 s ± 0 ns per loop (mean ± std. dev. of 1 run, 1 loop each)\n",
      "3.34 s ± 0 ns per loop (mean ± std. dev. of 1 run, 1 loop each)\n"
     ]
    }
   ],
   "source": [
    "rand = RandomAgent(name='rand1')\n",
    "agent = MiniMaxAgent(center_eval, depth=2, name = 'MiniMaxAgent', using_ab_pruning = False)\n",
    "agent_pruning = MiniMaxAgent(center_eval, depth=2, name = 'MiniMaxAgent With Pruning', using_ab_pruning = True)\n",
    "\n",
    "time2 = %timeit -n1 -r1 -o results_d3 = simulate(Board2D(board_size=3), rand, agent, num_sims=100)\n",
    "time2_ab = %timeit -n1 -r1 -o results_d3 = simulate(Board2D(board_size=3), rand, agent_pruning, num_sims=100)"
   ]
  },
  {
   "cell_type": "code",
   "execution_count": 58,
   "id": "453c940a-e916-4d19-85bd-981a9e477444",
   "metadata": {},
   "outputs": [
    {
     "name": "stdout",
     "output_type": "stream",
     "text": [
      "20.5 s ± 0 ns per loop (mean ± std. dev. of 1 run, 1 loop each)\n",
      "10.4 s ± 0 ns per loop (mean ± std. dev. of 1 run, 1 loop each)\n"
     ]
    }
   ],
   "source": [
    "rand = RandomAgent(name='rand1')\n",
    "agent = MiniMaxAgent(center_eval, depth=3, name = 'MiniMaxAgent', using_ab_pruning = False)\n",
    "agent_pruning = MiniMaxAgent(center_eval, depth=3, name = 'MiniMaxAgent With Pruning', using_ab_pruning = True)\n",
    "\n",
    "time3 = %timeit -n1 -r1 -o results_d3 = simulate(Board2D(board_size=3), rand, agent, num_sims=100)\n",
    "time3_ab = %timeit -n1 -r1 -o results_d3 = simulate(Board2D(board_size=3), rand, agent_pruning, num_sims=100)"
   ]
  },
  {
   "cell_type": "code",
   "execution_count": 59,
   "id": "ef3d83e6-6790-480b-80dd-f4f18a8c62a0",
   "metadata": {},
   "outputs": [
    {
     "data": {
      "text/html": [
       "<div>\n",
       "<style scoped>\n",
       "    .dataframe tbody tr th:only-of-type {\n",
       "        vertical-align: middle;\n",
       "    }\n",
       "\n",
       "    .dataframe tbody tr th {\n",
       "        vertical-align: top;\n",
       "    }\n",
       "\n",
       "    .dataframe thead th {\n",
       "        text-align: right;\n",
       "    }\n",
       "</style>\n",
       "<table border=\"1\" class=\"dataframe\">\n",
       "  <thead>\n",
       "    <tr style=\"text-align: right;\">\n",
       "      <th></th>\n",
       "      <th>Minimax Time</th>\n",
       "      <th>Minimax Time with Pruning</th>\n",
       "    </tr>\n",
       "  </thead>\n",
       "  <tbody>\n",
       "    <tr>\n",
       "      <th>1</th>\n",
       "      <td>0.709048</td>\n",
       "      <td>0.760817</td>\n",
       "    </tr>\n",
       "    <tr>\n",
       "      <th>2</th>\n",
       "      <td>4.078992</td>\n",
       "      <td>3.343972</td>\n",
       "    </tr>\n",
       "    <tr>\n",
       "      <th>3</th>\n",
       "      <td>20.496631</td>\n",
       "      <td>10.412442</td>\n",
       "    </tr>\n",
       "  </tbody>\n",
       "</table>\n",
       "</div>"
      ],
      "text/plain": [
       "   Minimax Time  Minimax Time with Pruning\n",
       "1      0.709048                   0.760817\n",
       "2      4.078992                   3.343972\n",
       "3     20.496631                  10.412442"
      ]
     },
     "execution_count": 59,
     "metadata": {},
     "output_type": "execute_result"
    }
   ],
   "source": [
    "df_results_time = pd.DataFrame(columns = ['Minimax Time', 'Minimax Time with Pruning'])\n",
    "df_results_time.loc[1] = ((time1.average, time1_ab.average))\n",
    "df_results_time.loc[2] = ((time2.average, time2_ab.average))\n",
    "df_results_time.loc[3] = ((time3.average, time3_ab.average))\n",
    "df_results_time"
   ]
  },
  {
   "cell_type": "code",
   "execution_count": 60,
   "id": "93f16c1a-f58b-4b77-83c1-bf454e6926b8",
   "metadata": {},
   "outputs": [
    {
     "data": {
      "text/plain": [
       "<AxesSubplot:title={'center':'rand vs Minimax and rand vs Minimax with Pruning'}, xlabel='Depth', ylabel='Time in Seconds'>"
      ]
     },
     "execution_count": 60,
     "metadata": {},
     "output_type": "execute_result"
    },
    {
     "data": {
      "image/png": "[encoded data removed]",
      "text/plain": [
       "<Figure size 432x288 with 1 Axes>"
      ]
     },
     "metadata": {
      "needs_background": "light"
     },
     "output_type": "display_data"
    }
   ],
   "source": [
    "df_results_time.plot.bar(title = \"rand vs Minimax and rand vs Minimax with Pruning\", xlabel = \"Depth\", ylabel = \"Time in Seconds\")"
   ]
  }
 ],
 "metadata": {
  "kernelspec": {
   "display_name": "Python 3",
   "language": "python",
   "name": "python3"
  },
  "language_info": {
   "codemirror_mode": {
    "name": "ipython",
    "version": 3
   },
   "file_extension": ".py",
   "mimetype": "text/x-python",
   "name": "python",
   "nbconvert_exporter": "python",
   "pygments_lexer": "ipython3",
   "version": "3.8.8"
  }
 },
 "nbformat": 4,
 "nbformat_minor": 5
}
