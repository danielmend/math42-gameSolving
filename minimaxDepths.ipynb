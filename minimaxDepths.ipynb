{
 "cells": [
  {
   "cell_type": "code",
   "execution_count": 117,
   "id": "3005babd-ee01-40c6-8468-acefe2a128aa",
   "metadata": {},
   "outputs": [],
   "source": [
    "from tictactoe import Board2D, Board3D, TicTacToe # all tictactoe / gamelogic stuff is in tictactoe.py\n",
    "from sim import simulate # sim.py is where the simulations lie\n",
    "from agent import RandomAgent # whenever you finalize an agent, add it to agents.py!\n",
    "\n",
    "import numpy as np"
   ]
  },
  {
   "cell_type": "code",
   "execution_count": 175,
   "id": "55a9ed58-a910-4e8e-9f97-2ea7ba2036c2",
   "metadata": {},
   "outputs": [],
   "source": [
    "board = Board2D(board_size=3) # this defines a 3x3 gameboard, i.e. the original gameboard"
   ]
  },
  {
   "cell_type": "markdown",
   "id": "295ed9f0-6ce5-48f7-9a9d-dd24150048c9",
   "metadata": {},
   "source": [
    "Below I will define the agents I am going to use"
   ]
  },
  {
   "cell_type": "code",
   "execution_count": 3,
   "id": "3db22349-e830-4b58-8e38-bfb07de8b159",
   "metadata": {},
   "outputs": [],
   "source": [
    "from agent import MiniMaxAgent"
   ]
  },
  {
   "cell_type": "code",
   "execution_count": 34,
   "id": "77c74895-4a7e-4ad5-bf1d-aaa72c9232de",
   "metadata": {},
   "outputs": [],
   "source": [
    "def dist(loc1, loc2):\n",
    "    return np.square(loc1 - loc2).sum()\n",
    "\n",
    "def dist_from_center(loc, board):\n",
    "    center = np.asarray([board.shape[0]//2, board.shape[1]//2])\n",
    "    return dist(np.asarray(loc), center)\n",
    "\n",
    "def center_eval(node, player):\n",
    "    board = node.state\n",
    "    score = 0\n",
    "    # i.e. gets the player we're evaluating the perspective of\n",
    "    my_pieces = zip(*np.where(board.board == player))\n",
    "    for loc in my_pieces:\n",
    "        score -= dist_from_center(loc, board.board)\n",
    "    return score + np.random.normal()"
   ]
  },
  {
   "cell_type": "code",
   "execution_count": 176,
   "id": "dc179cff-cdc8-4b21-ab23-29d3b38f3e9f",
   "metadata": {},
   "outputs": [],
   "source": [
    "def two_in_a_row_eval(node, player):\n",
    "    board = node.state\n",
    "    score = 0\n",
    "    # i.e. gets the player we're evaluating the perspective of\n",
    "    my_pieces = zip(*np.where(board.board == player))\n",
    "    \n",
    "    if(board.get_winner() == player):\n",
    "        score = 1000\n",
    "    elif(board.get_winner() == -player):\n",
    "        score = -1000\n",
    "     \n",
    "    for i in range(board.board.shape[0]):\n",
    "        if sum(board.board[i]) == 2*player:\n",
    "            score += 10\n",
    "    for j in range(board.board.shape[1]):\n",
    "        if sum(board.board[:,j]) == 2*player:\n",
    "            score += 10\n",
    "    if sum(np.diag(board.board)) == 2*player:\n",
    "        score += 10\n",
    "    if sum(np.diag(np.fliplr(board.board))) == 2*player:\n",
    "        score += 10\n",
    "    \n",
    "    for i in range(board.board.shape[0]):\n",
    "        if sum(board.board[i]) == -2*player:\n",
    "            score -= 10\n",
    "    for j in range(board.board.shape[1]):\n",
    "        if sum(board.board[:,j]) == -2*player:\n",
    "            score -= 10\n",
    "    if sum(np.diag(board.board)) == -2*player:\n",
    "        score -= 10\n",
    "    if sum(np.diag(np.fliplr(board.board))) == -2*player:\n",
    "        score -= 10\n",
    "    \n",
    "    return score + np.random.normal()\n",
    "    # iterate through columns and check if they are 2 and an open color\n",
    "    # iterate through rows and check if they are 2 and an open color\n",
    "    # do this with diagonals as well"
   ]
  },
  {
   "cell_type": "code",
   "execution_count": 183,
   "id": "57011034-5470-472d-ada4-f24575e218a8",
   "metadata": {},
   "outputs": [],
   "source": [
    "def simple(node, player):\n",
    "    if(board.get_winner() == player):\n",
    "        score = 1000000\n",
    "    elif(board.get_winner() == -player):\n",
    "        score = -1000000\n",
    "    else:\n",
    "        score = 0\n",
    "    return score"
   ]
  },
  {
   "cell_type": "code",
   "execution_count": 184,
   "id": "6af1d4d2-9796-448a-b405-02486b563be1",
   "metadata": {},
   "outputs": [],
   "source": [
    "MMagent0 = MiniMaxAgent(two_in_a_row_eval, name = 'MiniMaxAgentTiar', depth=0)\n",
    "MMagent1 = MiniMaxAgent(two_in_a_row_eval, name = 'MiniMaxAgentTiar', depth=1)\n",
    "MMagent2 = MiniMaxAgent(two_in_a_row_eval, name = 'MiniMaxAgentTiar', depth=2)\n",
    "MMagent3 = MiniMaxAgent(two_in_a_row_eval, name = 'MiniMaxAgentTiar', depth=3)\n",
    "MMagent4 = MiniMaxAgent(two_in_a_row_eval, name = 'MiniMaxAgentTiar', depth=4)\n",
    "MMagent0_center = MiniMaxAgent(center_eval, name = 'MiniMaxAgentCenter', depth=0)\n",
    "MMagent1_center = MiniMaxAgent(center_eval, name = 'MiniMaxAgentCenter', depth=1)\n",
    "MMagent2_center = MiniMaxAgent(center_eval, name = 'MiniMaxAgentCenter', depth=2)\n",
    "MMagent3_center = MiniMaxAgent(center_eval, name = 'MiniMaxAgentCenter', depth=3)\n",
    "MMsimple0 = MiniMaxAgent(simple, name = 'Simple', depth=0)\n",
    "MMsimple1 = MiniMaxAgent(simple, name = 'Simple', depth=1)\n",
    "MMsimple2 = MiniMaxAgent(simple, name = 'Simple', depth=2)\n",
    "MMsimple3 = MiniMaxAgent(simple, name = 'Simple', depth=3)\n",
    "rand = RandomAgent(name='rand')"
   ]
  },
  {
   "cell_type": "code",
   "execution_count": 179,
   "id": "99758b61-d6f1-410b-a636-f04524b40817",
   "metadata": {},
   "outputs": [
    {
     "data": {
      "text/plain": [
       "{'draw': 218, 'rand': 217, 'Simple': 565}"
      ]
     },
     "execution_count": 179,
     "metadata": {},
     "output_type": "execute_result"
    }
   ],
   "source": [
    "simple0_res = simulate(board, rand, MMsimple0, num_sims=1000)\n",
    "simple0_res"
   ]
  },
  {
   "cell_type": "code",
   "execution_count": 180,
   "id": "a2c3e3cc-78d6-49b1-88fd-06d8ec15efab",
   "metadata": {},
   "outputs": [
    {
     "data": {
      "text/plain": [
       "{'draw': 213, 'rand': 249, 'Simple': 538}"
      ]
     },
     "execution_count": 180,
     "metadata": {},
     "output_type": "execute_result"
    }
   ],
   "source": [
    "simple1_res = simulate(board, rand, MMsimple1, num_sims=1000)\n",
    "simple1_res"
   ]
  },
  {
   "cell_type": "code",
   "execution_count": 181,
   "id": "6fb6444c-14df-423a-b15e-d2a7727caa42",
   "metadata": {},
   "outputs": [
    {
     "data": {
      "text/plain": [
       "{'draw': 211, 'rand': 233, 'Simple': 556}"
      ]
     },
     "execution_count": 181,
     "metadata": {},
     "output_type": "execute_result"
    }
   ],
   "source": [
    "simple2_res = simulate(board, rand, MMsimple2, num_sims=1000)\n",
    "simple2_res"
   ]
  },
  {
   "cell_type": "code",
   "execution_count": 185,
   "id": "def9bb3b-61c7-40ae-833f-4632de56bb64",
   "metadata": {},
   "outputs": [
    {
     "data": {
      "text/plain": [
       "{'draw': 220, 'rand': 238, 'Simple': 542}"
      ]
     },
     "execution_count": 185,
     "metadata": {},
     "output_type": "execute_result"
    }
   ],
   "source": [
    "simple3_res = simulate(board, rand, MMsimple3, num_sims=1000)\n",
    "simple3_res"
   ]
  },
  {
   "cell_type": "code",
   "execution_count": 90,
   "id": "73ae701e-ffff-4ae4-b1ad-18451755f35b",
   "metadata": {},
   "outputs": [
    {
     "data": {
      "text/plain": [
       "{'draw': 0, 'MiniMaxAgentCenter': 24, 'MiniMaxAgentTiar': 76}"
      ]
     },
     "execution_count": 90,
     "metadata": {},
     "output_type": "execute_result"
    }
   ],
   "source": [
    "tiarVScenter_res = simulate(board, MMagent2_center, MMagent2, num_sims=100)\n",
    "tiarVScenter_res"
   ]
  },
  {
   "cell_type": "code",
   "execution_count": 91,
   "id": "89dcb200-5888-4484-86bd-8e9337316ed7",
   "metadata": {},
   "outputs": [
    {
     "data": {
      "text/plain": [
       "{'draw': 0, 'MiniMaxAgentCenter': 6, 'MiniMaxAgentTiar': 94}"
      ]
     },
     "execution_count": 91,
     "metadata": {},
     "output_type": "execute_result"
    }
   ],
   "source": [
    "tiarVScenter_res4x4 = simulate(Board2D(board_size=4), MMagent2_center, MMagent2, num_sims=100)\n",
    "tiarVScenter_res4x4"
   ]
  },
  {
   "cell_type": "code",
   "execution_count": 92,
   "id": "1dda2ee7-6abc-46c8-b243-86920bc0145b",
   "metadata": {},
   "outputs": [
    {
     "data": {
      "text/plain": [
       "{'draw': 15, 'MiniMaxAgentCenter': 45, 'MiniMaxAgentTiar': 40}"
      ]
     },
     "execution_count": 92,
     "metadata": {},
     "output_type": "execute_result"
    }
   ],
   "source": [
    "tiarVScenter_res5x5 = simulate(Board2D(board_size=5), MMagent2_center, MMagent2, num_sims=100)\n",
    "tiarVScenter_res5x5"
   ]
  },
  {
   "cell_type": "code",
   "execution_count": 93,
   "id": "a6909856-df0a-4f59-8cb5-64f5f9bc70e9",
   "metadata": {},
   "outputs": [],
   "source": [
    "#tiarVScenter_res6x6 = simulate(Board2D(board_size=6), MMagent2_center, MMagent2, num_sims=100)\n",
    "#tiarVScenter_res6x6"
   ]
  },
  {
   "cell_type": "markdown",
   "id": "cdc37be8-def5-4a3e-906b-6ef5b99835d5",
   "metadata": {},
   "source": [
    "In the last three simulations we tried our two in a row evaluation minimax function versus a center evaluation minimax function. We see that for a 3x3 the two in a row evaluation minimax function performs really well in a 3x3 board winning in 76/100 simulations. It performs even better in a 4x4 board winning in 94/100 simulations."
   ]
  },
  {
   "cell_type": "code",
   "execution_count": 99,
   "id": "e2f41c81-d783-439c-9d22-20009844015b",
   "metadata": {},
   "outputs": [
    {
     "data": {
      "text/plain": [
       "{'draw': 3, 'MiniMaxAgentCenter': 17, 'MiniMaxAgentTiar': 80}"
      ]
     },
     "execution_count": 99,
     "metadata": {},
     "output_type": "execute_result"
    }
   ],
   "source": [
    "tiarVScenter0_res = simulate(board, MMagent0_center, MMagent0, num_sims=100)\n",
    "tiarVScenter0_res"
   ]
  },
  {
   "cell_type": "code",
   "execution_count": 100,
   "id": "83e877fd-5b6b-481e-a55e-49f2cefe5902",
   "metadata": {},
   "outputs": [
    {
     "data": {
      "text/plain": [
       "{'draw': 6, 'MiniMaxAgentCenter': 23, 'MiniMaxAgentTiar': 71}"
      ]
     },
     "execution_count": 100,
     "metadata": {},
     "output_type": "execute_result"
    }
   ],
   "source": [
    "tiarVScenter1_res = simulate(board, MMagent1_center, MMagent1, num_sims=100)\n",
    "tiarVScenter1_res"
   ]
  },
  {
   "cell_type": "code",
   "execution_count": 101,
   "id": "2c503d02-cf82-4dfc-8a01-43bd6dcf85e8",
   "metadata": {},
   "outputs": [
    {
     "data": {
      "text/plain": [
       "{'draw': 0, 'MiniMaxAgentCenter': 21, 'MiniMaxAgentTiar': 79}"
      ]
     },
     "execution_count": 101,
     "metadata": {},
     "output_type": "execute_result"
    }
   ],
   "source": [
    "tiarVScenter2_res = simulate(board, MMagent2_center, MMagent2, num_sims=100)\n",
    "tiarVScenter2_res"
   ]
  },
  {
   "cell_type": "code",
   "execution_count": 102,
   "id": "29891138-9ad4-4cdf-ac8f-ea4205d6192a",
   "metadata": {},
   "outputs": [
    {
     "data": {
      "text/plain": [
       "{'draw': 0, 'MiniMaxAgentCenter': 39, 'MiniMaxAgentTiar': 61}"
      ]
     },
     "execution_count": 102,
     "metadata": {},
     "output_type": "execute_result"
    }
   ],
   "source": [
    "tiarVScenter3_res = simulate(board, MMagent3_center, MMagent3, num_sims=100)\n",
    "tiarVScenter3_res"
   ]
  },
  {
   "cell_type": "code",
   "execution_count": 113,
   "id": "660e17ee-4c86-46b6-9861-26701e41ad1f",
   "metadata": {},
   "outputs": [
    {
     "data": {
      "text/plain": [
       "{'draw': 59, 'rand': 42, 'MiniMaxAgentTiar': 899}"
      ]
     },
     "execution_count": 113,
     "metadata": {},
     "output_type": "execute_result"
    }
   ],
   "source": [
    "tiar0_res = simulate(board, rand, MMagent0, num_sims=1000)\n",
    "tiar0_res"
   ]
  },
  {
   "cell_type": "code",
   "execution_count": 110,
   "id": "2e8380c2-f2bc-4f5d-a041-834857851fab",
   "metadata": {},
   "outputs": [
    {
     "data": {
      "text/plain": [
       "{'draw': 90, 'rand': 62, 'MiniMaxAgentTiar': 848}"
      ]
     },
     "execution_count": 110,
     "metadata": {},
     "output_type": "execute_result"
    }
   ],
   "source": [
    "tiar1_res = simulate(board, rand, MMagent1, num_sims=1000)\n",
    "tiar1_res"
   ]
  },
  {
   "cell_type": "code",
   "execution_count": 87,
   "id": "56137f0d-bf10-44fb-9327-5e80a707407c",
   "metadata": {},
   "outputs": [
    {
     "data": {
      "text/plain": [
       "{'draw': 38, 'rand': 39, 'MiniMaxAgentTiar': 923}"
      ]
     },
     "execution_count": 87,
     "metadata": {},
     "output_type": "execute_result"
    }
   ],
   "source": [
    "tiar2_res = simulate(board, rand, MMagent2, num_sims=1000)\n",
    "tiar2_res"
   ]
  },
  {
   "cell_type": "code",
   "execution_count": 88,
   "id": "fab88e70-4542-4c8f-829d-cc5a1c66c45c",
   "metadata": {},
   "outputs": [
    {
     "data": {
      "text/plain": [
       "{'draw': 24, 'rand': 98, 'MiniMaxAgentTiar': 878}"
      ]
     },
     "execution_count": 88,
     "metadata": {},
     "output_type": "execute_result"
    }
   ],
   "source": [
    "tiar3_res = simulate(board, rand, MMagent3, num_sims=1000)\n",
    "tiar3_res"
   ]
  },
  {
   "cell_type": "code",
   "execution_count": 89,
   "id": "84df4cb7-2f13-4b66-9c5d-983f8a218994",
   "metadata": {},
   "outputs": [
    {
     "data": {
      "text/plain": [
       "{'draw': 35, 'rand': 65, 'MiniMaxAgentTiar': 900}"
      ]
     },
     "execution_count": 89,
     "metadata": {},
     "output_type": "execute_result"
    }
   ],
   "source": [
    "tiar4_res = simulate(board, rand, MMagent4, num_sims=1000)\n",
    "tiar4_res"
   ]
  },
  {
   "cell_type": "markdown",
   "id": "729ddecf-87a8-4dbb-92ee-377214409bb7",
   "metadata": {},
   "source": [
    "Prior to explaining these results let me explain the evaluation function I made and used for these simulations. My function values boards where you have 3 in a row very high and boards where the opponent has three in a row very low. This is obvious because those are obviously wins/losses. The more unique part of this is when we value us having 2 in a row/column/diagonal with an open third spot and devalue when the opponent has that. This is because having 2 in a row/column/diagonal with an open third spot opens the opportunity to win if you can get that third part. The random agent on the other hand just chooses a random open spot. The center evaluation function favors spaces closer to the center. The reason I believe my function will work well in 3x3 boards because we aim to put ourselves in positions to win by getting the 2 in the same row/column/diagonal where there is an open space. The open space would be a winning move so the more of these we get the more winning moves we will have and the more likely we are to win. While this alone is a solid strategy, our evaluation function also accounts for how close our opponent is to winning. If they are close to winning we value that board extremely low so we make sure that board does not occur.\n",
    "\n",
    "Results:\n",
    "\n",
    "The depth 0,1,2,3,4 minimax function with the two in a row evaluation method resulted in win rates of 89.9%, 84.8%, 92.3%, 87.8%, and 90.0% respectively versus a random win rate. This shows a very interesting result that shows a flaw in this evaluation function. The flaw is that it works better for even depths then odd depths. Furthermore, increasing the depth seems to help only a little bit. One hypothesis to why this evaluation function yields this result is that this function gets less useful as the board gets more full because there will be less cases in which you can get 2 in the same row/column/diagonal with an empty slot. It also may weigh the possibility of getting 2 in a row too heavily. For example, it might try and get 2 in an edge row/column instead of the middle. One way we could improve this is favoring center pieces as well.\n",
    "\n",
    "We also tested the two in a row evaluation function versus the center evaluation funciton with minimax on 3x3, 4x4, and 5x5 matrices. The results of this showed that for 3x3 and 4x4 the two in a row evaluation worked better, however, the center evaluation method worked better for 5x5. This leads me to hypothesize that for higher dimension boards the two in a row function won't work as will. This makes sense because at higher dimension boards, trying to get 2 in a row is only a fraction of what you are looking for. For example, it will aim to just get a bunch of rows/columns/diagonals with 2 in it instead of trying to get n in the same row. Basically, this evaluation function does not scale. One way that it may be able to scale to higher dimension tic-tac-toe is if you replaced 2 with n-1. However, this wouldn't work that well because it would be hard to calculate a score when you are not close at all to getting n-1 in a row/column/diagonal.\n",
    "\n",
    "All in all, this two in a row evaluation function had a win percentage over 84% for all simulated depths versus a random agent. Also, the two in a row evaluation function performed much better than the center evaluation function on the 3x3 board at depth 2. It proved to be a good and efficient evaluation function for depth 2 however it needs to be improved to work better at other depths and higher dimensions.\n",
    "\n",
    "\n",
    "\n"
   ]
  },
  {
   "cell_type": "code",
   "execution_count": 136,
   "id": "d462d8b0-23ee-4892-bacf-d0cb15e718aa",
   "metadata": {},
   "outputs": [],
   "source": [
    "def num_two_in_a_row(board, player):\n",
    "    if board.get_winner() == player:\n",
    "        return 10000000\n",
    "    elif board.get_winner() == -player:\n",
    "        return -10000000\n",
    "    \n",
    "    score = 0\n",
    "    \n",
    "    player_locs = list(zip(*np.where(board == player)))\n",
    "    for idx in range(len(player_locs)):\n",
    "        for idx2 in range(idx, len(player_locs)):\n",
    "            loc1 = np.asarray(player_locs[idx])\n",
    "            loc2 = np.asarray(player_locs[idx2])\n",
    "            if dist(loc1, loc2) <= np.sqrt(3):\n",
    "                score += 1\n",
    "                \n",
    "    other_player_locs = list(zip(*np.where(board == player)))\n",
    "    for idx in range(len(other_player_locs)):\n",
    "        for idx2 in range(idx, len(other_player_locs)):\n",
    "            loc1 = np.asarray(other_player_locs[idx])\n",
    "            loc2 = np.asarray(other_player_locs[idx2])\n",
    "            if dist(loc1, loc2) <= np.sqrt(3):\n",
    "                score -= 1\n",
    "            \n",
    "    return score"
   ]
  },
  {
   "cell_type": "code",
   "execution_count": 205,
   "id": "572932e0-7ec0-4367-b622-6e38e2265248",
   "metadata": {},
   "outputs": [],
   "source": [
    "def eval_for_3d(node, player):\n",
    "    board = node.state\n",
    "    player = board.pieces[(board.current_player+1)%2]\n",
    "    return num_two_in_a_row(board, player) + (np.random.normal()/20)"
   ]
  },
  {
   "cell_type": "code",
   "execution_count": 206,
   "id": "fac7cf7b-ce9b-4069-b2bb-b4e4de9f853e",
   "metadata": {},
   "outputs": [],
   "source": [
    "def simple_eval_3d(node, player):\n",
    "    if board.get_winner() == player:\n",
    "        return 10000000\n",
    "    elif board.get_winner() == -player:\n",
    "        return -10000000\n",
    "    else:\n",
    "        return np.random.normal()"
   ]
  },
  {
   "cell_type": "code",
   "execution_count": 207,
   "id": "c7214bad-6009-4488-8043-a4a4c43e9c89",
   "metadata": {},
   "outputs": [],
   "source": [
    "board = Board3D(board_size=3)"
   ]
  },
  {
   "cell_type": "code",
   "execution_count": 208,
   "id": "a588d9af-d5b5-443b-9be4-96525ec2962a",
   "metadata": {},
   "outputs": [],
   "source": [
    "MMagent1_3d = MiniMaxAgent(eval_for_3d, name = 'MiniMaxAgentTiar_3d', depth=1)\n",
    "MMagent1_3d_second = MiniMaxAgent(eval_for_3d, name = 'MiniMaxAgentTiar_3d the second', depth=1)\n",
    "simpleMMagent_3d = MiniMaxAgent(simple_eval_3d, name = 'simpleMMagent_3d', depth=1)\n",
    "simpleMMagent_3d_second = MiniMaxAgent(simple_eval_3d, name = 'simpleMMagent_3d the second', depth=1)"
   ]
  },
  {
   "cell_type": "code",
   "execution_count": 209,
   "id": "0bd9b34c-4aff-4a73-9757-1d108e3dae90",
   "metadata": {},
   "outputs": [],
   "source": [
    "from tictactoe import TicTacToe\n",
    "\n",
    "def simulate_oneway(board, agent1, agent2, num_sims, display=False):\n",
    "    order = TicTacToe(board, agent1, agent2)\n",
    "    \n",
    "    sim = {\n",
    "        'draw': 0,\n",
    "        agent1.name: 0,\n",
    "        agent2.name: 0,\n",
    "    }\n",
    "\n",
    "    for _ in range(num_sims):\n",
    "        res = order.sim_game(display=display)        \n",
    "        sim[res] = sim.get(res, 0) + 1\n",
    "\n",
    "    return sim"
   ]
  },
  {
   "cell_type": "code",
   "execution_count": 210,
   "id": "2a816471-b11d-4a66-889e-25db8152031c",
   "metadata": {},
   "outputs": [
    {
     "data": {
      "text/plain": [
       "{'draw': 0, 'rand': 6, 'MiniMaxAgentTiar_3d': 94}"
      ]
     },
     "execution_count": 210,
     "metadata": {},
     "output_type": "execute_result"
    }
   ],
   "source": [
    "tiar1_3d_res = simulate(board, rand, MMagent1_3d, num_sims=100)\n",
    "tiar1_3d_res"
   ]
  },
  {
   "cell_type": "code",
   "execution_count": 211,
   "id": "73e72612-9fc5-43bb-8ec6-42d25b95dcd8",
   "metadata": {},
   "outputs": [
    {
     "data": {
      "text/plain": [
       "{'draw': 0, 'rand': 6, 'simpleMMagent_3d': 94}"
      ]
     },
     "execution_count": 211,
     "metadata": {},
     "output_type": "execute_result"
    }
   ],
   "source": [
    "simple_3d_res = simulate(board, rand, simpleMMagent_3d, num_sims=100)\n",
    "simple_3d_res"
   ]
  },
  {
   "cell_type": "code",
   "execution_count": 213,
   "id": "9e5be3a8-5443-4865-ba4e-db86881c5b19",
   "metadata": {},
   "outputs": [
    {
     "data": {
      "text/plain": [
       "{'draw': 0, 'simpleMMagent_3d': 58, 'MiniMaxAgentTiar_3d': 42}"
      ]
     },
     "execution_count": 213,
     "metadata": {},
     "output_type": "execute_result"
    }
   ],
   "source": [
    "tiar1_simple_3d_res = simulate_oneway(board, simpleMMagent_3d, MMagent1_3d, num_sims=100)\n",
    "tiar1_simple_3d_res"
   ]
  },
  {
   "cell_type": "code",
   "execution_count": 215,
   "id": "52a8bcfb-5949-49c0-9233-eb21775b3427",
   "metadata": {},
   "outputs": [
    {
     "data": {
      "text/plain": [
       "{'draw': 0, 'MiniMaxAgentTiar_3d': 64, 'simpleMMagent_3d': 36}"
      ]
     },
     "execution_count": 215,
     "metadata": {},
     "output_type": "execute_result"
    }
   ],
   "source": [
    "tiar1_simple_3d_res2 = simulate_oneway(board, MMagent1_3d, simpleMMagent_3d, num_sims=100)\n",
    "tiar1_simple_3d_res2"
   ]
  },
  {
   "cell_type": "code",
   "execution_count": 217,
   "id": "87301fba-6388-4707-94ac-4f19c16bfb28",
   "metadata": {},
   "outputs": [
    {
     "data": {
      "text/plain": [
       "{'draw': 0, 'simpleMMagent_3d the second': 60, 'simpleMMagent_3d': 40}"
      ]
     },
     "execution_count": 217,
     "metadata": {},
     "output_type": "execute_result"
    }
   ],
   "source": [
    "sampleVSsample_3d_res = simulate_oneway(board, simpleMMagent_3d_second, simpleMMagent_3d, num_sims=100)\n",
    "sampleVSsample_3d_res"
   ]
  },
  {
   "cell_type": "markdown",
   "id": "4cbf3d13-dbc3-4653-9595-1f8625a59196",
   "metadata": {},
   "source": [
    "During this experiment, I used 3 different agents: random, 2 in a row, and a simple one for the minimax function. Against random agents, the 2 in a row and simple one both won with a 94% win rate. Now we put them up against each other. When 2 in a row started against the simple agent it won 64% of the time while the simple agent only won 58% of the time when it started. This however is not statistically significant enough to determine that the 2 in a row is a better agent."
   ]
  }
 ],
 "metadata": {
  "kernelspec": {
   "display_name": "Python 3 (ipykernel)",
   "language": "python",
   "name": "python3"
  },
  "language_info": {
   "codemirror_mode": {
    "name": "ipython",
    "version": 3
   },
   "file_extension": ".py",
   "mimetype": "text/x-python",
   "name": "python",
   "nbconvert_exporter": "python",
   "pygments_lexer": "ipython3",
   "version": "3.9.12"
  }
 },
 "nbformat": 4,
 "nbformat_minor": 5
}
