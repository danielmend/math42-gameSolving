{
 "cells": [
  {
   "cell_type": "code",
   "execution_count": 1,
   "id": "5ee956a6-00c3-4c6b-912c-27d53d1080d6",
   "metadata": {},
   "outputs": [],
   "source": [
    "from tictactoe import Board2D, Board3D\n",
    "import numpy as np\n",
    "import copy"
   ]
  },
  {
   "cell_type": "code",
   "execution_count": 53,
   "id": "95650f26-40aa-46f6-ad0a-d9c55e67977e",
   "metadata": {},
   "outputs": [],
   "source": [
    "class Node:\n",
    "    def __init__(self, state, parent, move):\n",
    "        self.state = state\n",
    "        self.parent = parent\n",
    "        self.move = move\n",
    "        \n",
    "        self.who_placed = (self.state.current_player + 1)%2\n",
    "        self.children = []\n",
    "        \n",
    "    def get_children(self):\n",
    "        children = []\n",
    "        current_player = self.state.current_player\n",
    "        for move in self.state.get_legal_moves():\n",
    "            board_copy = copy.deepcopy(self.state)\n",
    "            board_copy.place(move)\n",
    "            children.append(\n",
    "                Node(\n",
    "                    state=board_copy,\n",
    "                    parent=self,\n",
    "                    move=move,\n",
    "                )\n",
    "            )\n",
    "        self.children = children\n",
    "        return children"
   ]
  },
  {
   "cell_type": "code",
   "execution_count": 54,
   "id": "8ccaf74a-55f5-452f-beb8-c2b9e54c4225",
   "metadata": {},
   "outputs": [],
   "source": [
    "class Agent:\n",
    "    def __init__(self):\n",
    "        pass\n",
    "    \n",
    "    def evaluate(self, board):\n",
    "        '''\n",
    "        board -> best move\n",
    "        '''\n",
    "        pass"
   ]
  },
  {
   "cell_type": "code",
   "execution_count": 55,
   "id": "0ff0c94c-5c2c-4ab5-ac65-c85d945076f1",
   "metadata": {},
   "outputs": [],
   "source": [
    "def random_eval(board):\n",
    "    return np.random.normal()"
   ]
  },
  {
   "cell_type": "code",
   "execution_count": 56,
   "id": "584b04e4-1634-4f81-b313-1df969412f20",
   "metadata": {},
   "outputs": [],
   "source": [
    "class MiniMaxAgent(Agent):\n",
    "    def __init__(self, eval_fn, depth):\n",
    "        super().__init__()\n",
    "        self.eval_fn = eval_fn\n",
    "        self.evaluator = MiniMaxEvaluator(eval_fn, depth)\n",
    "        \n",
    "    def evaluate(self, board):\n",
    "        '''\n",
    "        board -> best move\n",
    "        '''\n",
    "        node = Node(board, None, None)\n",
    "        return self.evaluator.evaluate(node)"
   ]
  },
  {
   "cell_type": "code",
   "execution_count": 57,
   "id": "4bb0154f-7406-4513-b008-e70e071ce38b",
   "metadata": {},
   "outputs": [],
   "source": [
    "class MiniMaxEvaluator:\n",
    "    def __init__(self, eval_fn, depth):\n",
    "        self.eval_fn = eval_fn\n",
    "        self.depth = depth\n",
    "    \n",
    "    def minimax(self, node, depth, maximizing_player):\n",
    "        if depth == 0 or node.state.get_winner() != 0 or len(list(node.state.get_legal_moves())) == 0:\n",
    "            return self.eval_fn(node)\n",
    "        \n",
    "        if maximizing_player:\n",
    "            value = -np.inf\n",
    "            for child in node.get_children():\n",
    "                value = max(value, self.minimax(child, depth-1, False))\n",
    "            return value\n",
    "        else:\n",
    "            value = np.inf\n",
    "            for child in node.get_children():\n",
    "                value = min(value, self.minimax(child, depth-1, True))\n",
    "            return value\n",
    "        \n",
    "    def evaluate(self, node):\n",
    "        '''\n",
    "        node -> best move\n",
    "        '''\n",
    "        best_move = None\n",
    "        best_eval = -np.inf\n",
    "        for move in node.state.get_legal_moves():\n",
    "            board_copy = copy.deepcopy(node.state)\n",
    "            board_copy.place(move)\n",
    "            child_node = Node(\n",
    "                state=board_copy,\n",
    "                parent=self,\n",
    "                move=move,\n",
    "            )\n",
    "            value = self.minimax(child_node, self.depth, False)\n",
    "            \n",
    "            if value > best_eval:\n",
    "                best_move = move\n",
    "                best_eval = value\n",
    "                \n",
    "        return best_move"
   ]
  },
  {
   "cell_type": "code",
   "execution_count": 84,
   "id": "f0a039ae-6c5b-4c9e-b8b0-a9613810a376",
   "metadata": {},
   "outputs": [],
   "source": [
    "class TicTacToe:\n",
    "    def __init__(self, board, agent1, agent2):\n",
    "        self.board_wrapper = board\n",
    "        self.agent1 = agent1\n",
    "        self.agent2 = agent2\n",
    "        \n",
    "    def sim_game(self, display=True):\n",
    "        self.board_wrapper.reset()\n",
    "        n_moves = 0\n",
    "        while self.board_wrapper.get_winner() == 0 and len(list(self.board_wrapper.get_legal_moves())) > 0:\n",
    "            if display:\n",
    "                print(f'========= move {n_moves} =========')\n",
    "                print(self.board_wrapper)\n",
    "                print('=========        =========')\n",
    "                \n",
    "            if self.board_wrapper.current_player == -1:\n",
    "                best_move = agent1.evaluate(self.board_wrapper)\n",
    "                self.board_wrapper.place(best_move)\n",
    "            else:\n",
    "                best_move = agent2.evaluate(self.board_wrapper)\n",
    "                self.board_wrapper.place(best_move)\n",
    "            \n",
    "            \n",
    "            n_moves += 1\n",
    "        if display:\n",
    "                print(f'========= move {n_moves} =========')\n",
    "                print(self.board_wrapper)\n",
    "                print('=========        =========')\n",
    "                \n",
    "        return 'draw' if len(list(self.board_wrapper.get_legal_moves())) == 0 else self.board_wrapper.get_winner()"
   ]
  },
  {
   "cell_type": "code",
   "execution_count": 90,
   "id": "e033d660-548e-4500-92bd-b6f753201a8d",
   "metadata": {},
   "outputs": [],
   "source": [
    "agent1 = MiniMaxAgent(random_eval, depth=2)\n",
    "agent2 = MiniMaxAgent(random_eval, depth=2)"
   ]
  },
  {
   "cell_type": "code",
   "execution_count": 91,
   "id": "46652cca-4584-422e-b131-c43fd1ac3443",
   "metadata": {},
   "outputs": [],
   "source": [
    "board = Board2D(board_size=3)"
   ]
  },
  {
   "cell_type": "code",
   "execution_count": 92,
   "id": "12405a58-ab07-4339-89aa-97e1cc72054f",
   "metadata": {},
   "outputs": [],
   "source": [
    "t = TicTacToe(board, agent1, agent2)"
   ]
  },
  {
   "cell_type": "code",
   "execution_count": 95,
   "id": "6d9d5e0c-6401-4a4a-b0c3-091e7321d140",
   "metadata": {},
   "outputs": [],
   "source": [
    "res = {\n",
    "    -1: 0,\n",
    "    'draw': 0,\n",
    "    1: 0\n",
    "}\n",
    "\n",
    "for i in range(100):\n",
    "    outcome = t.sim_game(display=False)\n",
    "    res[outcome] += 1"
   ]
  }
 ],
 "metadata": {
  "kernelspec": {
   "display_name": "Python 3",
   "language": "python",
   "name": "python3"
  },
  "language_info": {
   "codemirror_mode": {
    "name": "ipython",
    "version": 3
   },
   "file_extension": ".py",
   "mimetype": "text/x-python",
   "name": "python",
   "nbconvert_exporter": "python",
   "pygments_lexer": "ipython3",
   "version": "3.8.6"
  }
 },
 "nbformat": 4,
 "nbformat_minor": 5
}
