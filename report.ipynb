{
 "cells": [
  {
   "cell_type": "markdown",
   "id": "1572d564-5bc1-4952-8995-e50dec1b1e8a",
   "metadata": {},
   "source": [
    "# Solving Tic Tac Toe Variants"
   ]
  },
  {
   "cell_type": "markdown",
   "id": "cbb00eff-5b42-4416-885e-70a60adabd86",
   "metadata": {},
   "source": [
    "## Abstract\n",
    "\n",
    "niket do ur magic"
   ]
  },
  {
   "cell_type": "markdown",
   "id": "acf82840-94be-482e-baf7-9aae465dc23e",
   "metadata": {},
   "source": [
    "## Problem Description\n",
    "\n",
    "3x3 tic tac toe is easy, but due to the curse of dimensionality the state space grows much larger for 3x3x3 leading to a much more complex game. can these also be solved, and what is the most compute-efficient way in doing so?"
   ]
  },
  {
   "cell_type": "markdown",
   "id": "43a42053-6db0-4e36-8297-64dc513d540c",
   "metadata": {},
   "source": [
    "## Related Work\n",
    "\n",
    "Paper on n-dimensional tic-tac-toe with some useful theorems which we can use in our mathematical analysis: https://web.archive.org/web/20160429190326/http://library.msri.org/books/Book42/files/golomb.pdf\n",
    "\n",
    "Might be useful:\n",
    "https://www.math.ucdavis.edu/~linear/student_creations/TicTacToe.pdf\n",
    "\n",
    "\n",
    "Monte carlo tree search paper:\n",
    "https://www.aaai.org/Papers/AIIDE/2008/AIIDE08-036.pdf\n",
    "\n",
    "Wikipedia articles with saucy stuff: \n",
    "https://en.wikipedia.org/wiki/Hales%E2%80%93Jewett_theorem\n",
    "https://en.wikipedia.org/wiki/Nd_game#cite_note-:3-5"
   ]
  },
  {
   "cell_type": "markdown",
   "id": "badb8236-0ea4-47ba-af0b-7db42b198a7c",
   "metadata": {},
   "source": [
    "## Simplifications"
   ]
  },
  {
   "cell_type": "code",
   "execution_count": 1,
   "id": "e9b15298-2fc5-45c6-9d1e-ce3065eb66db",
   "metadata": {
    "tags": []
   },
   "outputs": [],
   "source": [
    "from agent import RandomAgent\n",
    "from sim import simulate\n",
    "\n",
    "import numpy as np\n",
    "import matplotlib.pyplot as plt\n",
    "from tictactoe import Board2D"
   ]
  },
  {
   "cell_type": "markdown",
   "id": "5a087d5d-9111-4734-8075-7d684eb9bcfd",
   "metadata": {},
   "source": [
    "Random agent vs random agent analysis goes here!"
   ]
  },
  {
   "cell_type": "markdown",
   "id": "215764d7-38b7-4491-b8fd-97a4248ee3c0",
   "metadata": {},
   "source": [
    "## Mathematical Model"
   ]
  },
  {
   "cell_type": "markdown",
   "id": "b53cac43-3fb1-45e5-9fdb-3bb4b33bd5d5",
   "metadata": {},
   "source": [
    "Here is where we introduce minimax. How does it work? What is its complexity? Etc etc"
   ]
  },
  {
   "cell_type": "markdown",
   "id": "ebefea37-700c-4503-bdea-47ef5c01b242",
   "metadata": {},
   "source": [
    "## Solution of the Mathematical Problem"
   ]
  },
  {
   "cell_type": "code",
   "execution_count": 2,
   "id": "80eccd3c-2a59-4dbf-9d0a-aac34238e0f4",
   "metadata": {},
   "outputs": [],
   "source": [
    "from agent import MiniMaxAgent"
   ]
  },
  {
   "cell_type": "markdown",
   "id": "407d3d9a-b32e-4f87-be81-6c71d102d9dc",
   "metadata": {},
   "source": [
    "Solve 3x3 tic tac toe\n",
    "\n",
    "Introduce difficulties with 3x3x3 (depth issues!)\n",
    "\n",
    "Introduce the notion of handcrafted heuristic eval with inductive bias to improve performance\n",
    "\n",
    "Introduce MCTS as a more efficient way to search the state space"
   ]
  },
  {
   "cell_type": "markdown",
   "id": "febfddcb-b277-4c34-ba24-fb2f9543c318",
   "metadata": {},
   "source": [
    "## Results"
   ]
  },
  {
   "cell_type": "markdown",
   "id": "838069ca-c9bf-4119-bd75-1e3437c5da4a",
   "metadata": {},
   "source": [
    "optimal minimax 3x3\n",
    "\n",
    "performance of various heuristics in 3x3x3\n",
    "\n",
    "minimax vs. mcts (daniel analysis)\n",
    "\n",
    "alpha beta complexity/runtime analysis"
   ]
  },
  {
   "cell_type": "markdown",
   "id": "8c7c6eb0-e304-4c5d-aae4-fbe88716f171",
   "metadata": {},
   "source": [
    "### Monte Carlo Tree Search"
   ]
  },
  {
   "cell_type": "code",
   "execution_count": 3,
   "id": "f5003f50-6411-4e00-a5fc-3751f02beb57",
   "metadata": {},
   "outputs": [],
   "source": [
    "# note to self; fact check this with OG paper"
   ]
  },
  {
   "cell_type": "markdown",
   "id": "cd660225-1e76-4f25-a266-bb79dab88ee7",
   "metadata": {},
   "source": [
    "One alternative to Minimax search is Monte Carlo Tree Search, or MCTS (cite). The goal of MCTS is to assign a value to each position in the tree of possible moves. Instead of searching every position breadth-first with an evaluation function up until a certain depth, monte carlo tree search explores the game tree over a series of simulations and uses *random rollouts* to assign value to each node in the tree. Starting from some root node (e.g. the current game position), MCTS will simulate multiple traversals down the game tree. \n",
    "\n",
    "During each traversal, the exploration of already-seen positions brings up an interesting dilema: how do we balance exploring new positions with exploting the knowledge we already have about positions we've encountered more often? There's a balance to strike here: on the one hand, if you explore more positions you might learn something new and valuable which improves your tree's representation of the best possible moves. Yet on the other hand, exploring new positions might reinforce what you already know about the position, and it might be better to get a better understanding of the few good candidate moves by doing more rollouts on positions you already know are likely to be good. In order to solve this, MCTS uses a formula called UCB (upper confidence bound) to determine which already-seen node to traverse to:\n",
    "$$S_i = x_i + C\\sqrt{\\frac{\\ln(t)}{n_i}}$$\n",
    "\n",
    "where $S_i$ is the value of node $i$, $x_i$ is the mean performance of all the rollouts stemming from that position, $C$ is a hyperparameter, $t$ is the total number of MCTS simulations, and $n_i$ is the number of times node $i$ has been visited across all simulations. The hyperparameter $C$ helps the user specify how much they want MCTS to explore new positions and how much it wants MCTS to explot its initial knowledge when choosing which child node to traverse to from the root. If $C$ is 0, then MCTS will only traverse to the nodes it sees with the highest win % (maximal $x_i$). However, if $C$ is nonzero, the $\\sqrt{\\frac{\\ln(t)}{n_i}}$ will influence MCTS to explore positions it hasn't visited often (low $n_i$ $\\implies$ higher $\\sqrt{\\frac{\\ln(t)}{n_i}}$ since $t$ is a constant). For our experiments, we set $C$ = 0.1\n",
    "\n",
    "In a given traversal, once MCTS has encountered a new position it hasn't seen before, it will compute random rollouts (games played until completion with random moves) and keep track of the result. This result will then be backpropgated to all the parent nodes to update their corresponding values. For example, if a node has two children, one with 5 wins and 5 losses from rollouts and another with 10 wins and 20 losses from rollouts, the value of the parent node will be $\\frac{5 + 10}{5 + 20} = \\frac{15}{25} = \\frac{3}{5}$ (assuming a win has value 1).\n",
    "\n",
    "**maybe include a graphic i make?**\n",
    "\n",
    "The reason this method might be useful to us is because it's more computationally efficient than MiniMax. That is to say, for a fixed runtime budget, MCTS will look at more positions than MiniMax, as most of the positions it sees are the result of random rollouts, which lets it look at more positions much faster. It's able to gather information more efficiently than minimax is (on a fixed time budget). Because of this, it might interesting to compare MCTS to Minimax and see if its efficient use of the state information in the game tree will allow it to perform better than Minimax."
   ]
  },
  {
   "cell_type": "markdown",
   "id": "72ae5ed2-e0d6-4d15-8005-479d2becdd3d",
   "metadata": {},
   "source": [
    "First, we can test MCTS against a random agent to see how the number of Monte Carlo Simulations affect performance"
   ]
  },
  {
   "cell_type": "code",
   "execution_count": 4,
   "id": "a7eafea7-b66e-4ada-94b7-8f1eca07d727",
   "metadata": {},
   "outputs": [],
   "source": [
    "from agent import MonteCarloAgent\n",
    "from utils import plot_agent_results"
   ]
  },
  {
   "cell_type": "code",
   "execution_count": 10,
   "id": "db1d2724-84fa-4b1b-9845-a0e94b095862",
   "metadata": {},
   "outputs": [
    {
     "data": {
      "image/png": "[encoded data removed]",
      "text/plain": [
       "<Figure size 432x288 with 1 Axes>"
      ]
     },
     "metadata": {
      "needs_background": "light"
     },
     "output_type": "display_data"
    }
   ],
   "source": [
    "results = []\n",
    "rand = RandomAgent()\n",
    "sim_depth = [1, 10, 100, 500]\n",
    "for mcts_sims in sim_depth:\n",
    "    board = Board2D(board_size=3)\n",
    "    mcts = MonteCarloAgent(num_sims=mcts_sims)\n",
    "    res = simulate(board, mcts, rand, num_sims=100, display=False)\n",
    "    results.append(res)\n",
    "    \n",
    "plot_agent_results(\n",
    "    results,\n",
    "    mcts,\n",
    "    rand,\n",
    "    x=sim_depth,\n",
    "    title='MCTS vs. Random Agent (3x3)',\n",
    "    xlabel='# MCTS Simulations',\n",
    "    ylabel='Winrate'\n",
    ")"
   ]
  },
  {
   "cell_type": "markdown",
   "id": "47cbeeae-c462-40e8-9bac-dcfb24a988c9",
   "metadata": {},
   "source": [
    "From the plot, we can see that increasing the simulation depth seems to greatly affect performance against a random agent, as the random winrate drops dramatically as we increase the number of MCTS simulations, which makes intuitive sense."
   ]
  },
  {
   "cell_type": "markdown",
   "id": "7bd1c046-488f-491b-a34d-ffc7e44bf296",
   "metadata": {},
   "source": [
    "Next we evaluate MCTS against various low-depth minimax agents on a traditional 3x3 board using a simple heuristic (+100 reward for a win, -100 reward for a loss). We will use 500 MCTS simulations as a baseline comparison."
   ]
  },
  {
   "cell_type": "code",
   "execution_count": 13,
   "id": "a07dc165-ce3c-4fff-9147-c4cb81d02012",
   "metadata": {},
   "outputs": [
    {
     "data": {
      "image/png": "[encoded data removed]",
      "text/plain": [
       "<Figure size 432x288 with 1 Axes>"
      ]
     },
     "metadata": {
      "needs_background": "light"
     },
     "output_type": "display_data"
    }
   ],
   "source": [
    "from eval_functions import simple_eval\n",
    "\n",
    "depths = range(0,3)\n",
    "results = []\n",
    "\n",
    "mcts = MonteCarloAgent(num_sims=500)\n",
    "for depth in depths:\n",
    "    board = Board2D(board_size=3)\n",
    "    mini = MiniMaxAgent(simple_eval, depth=depth)\n",
    "    res = simulate(board, mcts, mini, num_sims=100, display=False)\n",
    "    results.append(res)\n",
    "    \n",
    "plot_agent_results(\n",
    "    results,\n",
    "    mcts,\n",
    "    mini,\n",
    "    x=depths,\n",
    "    title='MCTS vs. Minimax Performance (3x3) by # Minimax Depth',\n",
    "    xlabel='Minimax Depth',\n",
    "    ylabel='Winrate'\n",
    ")"
   ]
  },
  {
   "cell_type": "markdown",
   "id": "9da8b377-5d10-4043-b614-b9b313cc3bd3",
   "metadata": {},
   "source": [
    "It seems that giving the minimax agent even a little bit of depth lets it dominate the MCTS agent. While the MCTS agent might be using less computational power by stochastically rolling out each state it visits, it probably ascertains a lot less information per state and therefore might not be using all the states it views as effectively as the minimax agent."
   ]
  },
  {
   "cell_type": "markdown",
   "id": "e0a7eacf-b867-4875-a02b-f23faf7377cc",
   "metadata": {},
   "source": [
    "We also do the same comparison on a 3-dimensional board with the same parameters to see if this result generalizes to 3 dimensions."
   ]
  },
  {
   "cell_type": "code",
   "execution_count": 14,
   "id": "dc3db1db-f397-472a-ab89-877cf3a4d1c5",
   "metadata": {},
   "outputs": [
    {
     "data": {
      "image/png": "[encoded data removed]",
      "text/plain": [
       "<Figure size 432x288 with 1 Axes>"
      ]
     },
     "metadata": {
      "needs_background": "light"
     },
     "output_type": "display_data"
    }
   ],
   "source": [
    "from tictactoe import Board3D\n",
    "\n",
    "depths = range(0,3)\n",
    "results = []\n",
    "\n",
    "mcts = MonteCarloAgent(num_sims=500)\n",
    "for depth in depths:\n",
    "    board = Board3D(board_size=3)\n",
    "    mini = MiniMaxAgent(simple_eval, depth=depth)\n",
    "    res = simulate(board, mcts, mini, num_sims=100, display=False)\n",
    "    results.append(res)\n",
    "    \n",
    "plot_agent_results(\n",
    "    results,\n",
    "    mcts,\n",
    "    mini,\n",
    "    x=depths,\n",
    "    title='MCTS vs. Minimax Performance (3x3x3) by # Minimax Depth',\n",
    "    xlabel='Minimax Depth',\n",
    "    ylabel='Winrate'\n",
    ")"
   ]
  },
  {
   "cell_type": "markdown",
   "id": "be3d3700-b202-42fd-acf2-33ac8cf53096",
   "metadata": {},
   "source": [
    "Even on low depth, it seems that MiniMax performs significantly better than MCTS."
   ]
  },
  {
   "cell_type": "markdown",
   "id": "d7443163-2373-409d-952c-79164434b710",
   "metadata": {},
   "source": [
    "## Improvement"
   ]
  },
  {
   "cell_type": "markdown",
   "id": "b4375d0b-7b08-4126-a34a-157c211d4993",
   "metadata": {},
   "source": [
    "better heuristics\n",
    "\n",
    "transpotition tables/improving tree search\n",
    "\n",
    "RL methods"
   ]
  },
  {
   "cell_type": "markdown",
   "id": "0a27139b-5c02-4fcc-8a86-abae1efe08a4",
   "metadata": {},
   "source": [
    "## Conclusions"
   ]
  },
  {
   "cell_type": "markdown",
   "id": "7aa636ab-388a-4f1f-9741-c987523c3860",
   "metadata": {},
   "source": [
    "here is where we restate / summarize our results"
   ]
  },
  {
   "cell_type": "markdown",
   "id": "ef3d3e90-136a-441e-92e9-46dc1e5bc4ba",
   "metadata": {},
   "source": [
    "## References"
   ]
  },
  {
   "cell_type": "markdown",
   "id": "8c39402b-791a-40c9-bfed-fc398fade00f",
   "metadata": {},
   "source": [
    "hi everyone :D"
   ]
  }
 ],
 "metadata": {
  "kernelspec": {
   "display_name": "Python 3",
   "language": "python",
   "name": "python3"
  },
  "language_info": {
   "codemirror_mode": {
    "name": "ipython",
    "version": 3
   },
   "file_extension": ".py",
   "mimetype": "text/x-python",
   "name": "python",
   "nbconvert_exporter": "python",
   "pygments_lexer": "ipython3",
   "version": "3.8.6"
  }
 },
 "nbformat": 4,
 "nbformat_minor": 5
}
