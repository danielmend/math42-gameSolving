{
 "cells": [
  {
   "cell_type": "code",
   "execution_count": 115,
   "id": "6410709a-6c17-411b-941c-e9b5579fe424",
   "metadata": {},
   "outputs": [],
   "source": [
    "import numpy as np\n",
    "from agent import MiniMaxAgent, RandomAgent\n",
    "from tictactoe import Board2D, Board3D, TicTacToe\n",
    "\n",
    "board = Board3D(board_size=3)"
   ]
  },
  {
   "cell_type": "code",
   "execution_count": 124,
   "id": "fddb75e7-7ec1-4f0c-bc11-3efebd068c6d",
   "metadata": {},
   "outputs": [],
   "source": [
    "def are_neighbors(loc1, loc2):\n",
    "    dim = len(loc1)\n",
    "    diff = np.asarray(loc1) - np.asarray(loc2)\n",
    "    return np.square(diff).sum() <= np.ones(shape=(dim,)).sum()\n",
    "\n",
    "def neighbors_eval(node):\n",
    "    board = node.state\n",
    "    score = 0\n",
    "    player = board.pieces[(board.current_player + 1)%2]\n",
    "    other_player = -player\n",
    "    \n",
    "    if board.get_winner() == player:\n",
    "        return np.inf\n",
    "    elif board.get_winner() == other_player:\n",
    "        return -np.inf\n",
    "    \n",
    "    my_locs = list(zip(*np.where(board.board == player)))\n",
    "    \n",
    "    for loc in my_locs:\n",
    "        for loc2 in my_locs:\n",
    "            if are_neighbors(loc, loc2):\n",
    "                score+=1\n",
    "                \n",
    "    return score"
   ]
  },
  {
   "cell_type": "code",
   "execution_count": 125,
   "id": "95caff40-2e93-4f6c-86b5-da3a68bd102b",
   "metadata": {},
   "outputs": [],
   "source": [
    "random_agent = RandomAgent()\n",
    "my_agent = MiniMaxAgent(neighbors_eval, depth=1)"
   ]
  },
  {
   "cell_type": "code",
   "execution_count": 126,
   "id": "70a5d346-acca-4b24-93a4-828b56b24eb1",
   "metadata": {},
   "outputs": [],
   "source": [
    "rand_first = TicTacToe(board, random_agent, my_agent)\n",
    "mine_first = TicTacToe(board, my_agent, random_agent)"
   ]
  },
  {
   "cell_type": "code",
   "execution_count": 129,
   "id": "70f250e7-3f47-4e66-9770-4c69763e2f02",
   "metadata": {},
   "outputs": [
    {
     "name": "stdout",
     "output_type": "stream",
     "text": [
      "0\n",
      "2\n",
      "4\n",
      "6\n",
      "8\n",
      "10\n",
      "12\n",
      "14\n",
      "16\n",
      "18\n",
      "20\n",
      "22\n",
      "24\n",
      "26\n",
      "28\n",
      "30\n",
      "32\n",
      "34\n",
      "36\n",
      "38\n",
      "40\n",
      "42\n",
      "44\n",
      "46\n",
      "48\n"
     ]
    }
   ],
   "source": [
    "sim = {\n",
    "    'rand': 0,\n",
    "    'draw': 0,\n",
    "    'chains': 0\n",
    "}\n",
    "\n",
    "for s in range(50):\n",
    "    if s%2==0:\n",
    "        print(s)\n",
    "    res1 = rand_first.sim_game(display=False)\n",
    "    res2 = mine_first.sim_game(display=False)\n",
    "    \n",
    "    if res1 == 'draw':\n",
    "        sim['draw'] += 1\n",
    "    elif res1 == -1:\n",
    "        sim['rand'] += 1\n",
    "    else:\n",
    "        sim['chains'] += 1\n",
    "        \n",
    "    if res2 == 'draw':\n",
    "        sim['draw'] += 1\n",
    "    elif res2 == -1:\n",
    "        sim['chains'] += 1\n",
    "    else:\n",
    "        sim['rand'] += 1"
   ]
  },
  {
   "cell_type": "code",
   "execution_count": 130,
   "id": "6745b7f2-912b-4535-9134-96cca1d261ec",
   "metadata": {},
   "outputs": [
    {
     "data": {
      "text/plain": [
       "{'rand': 3, 'draw': 0, 'chains': 97}"
      ]
     },
     "execution_count": 130,
     "metadata": {},
     "output_type": "execute_result"
    }
   ],
   "source": [
    "sim"
   ]
  },
  {
   "cell_type": "code",
   "execution_count": null,
   "id": "11ce64ed-26fb-46a3-a836-4946c2dfdaac",
   "metadata": {},
   "outputs": [],
   "source": []
  }
 ],
 "metadata": {
  "kernelspec": {
   "display_name": "Python 3",
   "language": "python",
   "name": "python3"
  },
  "language_info": {
   "codemirror_mode": {
    "name": "ipython",
    "version": 3
   },
   "file_extension": ".py",
   "mimetype": "text/x-python",
   "name": "python",
   "nbconvert_exporter": "python",
   "pygments_lexer": "ipython3",
   "version": "3.8.6"
  }
 },
 "nbformat": 4,
 "nbformat_minor": 5
}
