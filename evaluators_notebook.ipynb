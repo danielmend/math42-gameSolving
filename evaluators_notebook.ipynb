{
 "cells": [
  {
   "cell_type": "code",
   "execution_count": 14,
   "id": "6410709a-6c17-411b-941c-e9b5579fe424",
   "metadata": {},
   "outputs": [],
   "source": [
    "import numpy as np\n",
    "from agent import MiniMaxAgent, RandomAgent\n",
    "from tictactoe import Board2D, Board3D, TicTacToe\n",
    "from sim import simulate"
   ]
  },
  {
   "cell_type": "code",
   "execution_count": 15,
   "id": "fddb75e7-7ec1-4f0c-bc11-3efebd068c6d",
   "metadata": {},
   "outputs": [],
   "source": [
    "def are_neighbors(loc1, loc2):\n",
    "    dim = len(loc1)\n",
    "    diff = np.asarray(loc1) - np.asarray(loc2)\n",
    "    return np.square(diff).sum() <= np.ones(shape=(dim,)).sum()\n",
    "\n",
    "def neighbors_eval(node):\n",
    "    board = node.state\n",
    "    score = 0\n",
    "    player = board.pieces[(board.current_player + 1)%2]\n",
    "    other_player = -player\n",
    "    \n",
    "    if board.get_winner() == player:\n",
    "        return np.inf\n",
    "    elif board.get_winner() == other_player:\n",
    "        return -np.inf\n",
    "    \n",
    "    my_locs = list(zip(*np.where(board.board == player)))\n",
    "    \n",
    "    for loc in my_locs:\n",
    "        for loc2 in my_locs:\n",
    "            if are_neighbors(loc, loc2):\n",
    "                score+=1\n",
    "                \n",
    "    return score"
   ]
  },
  {
   "cell_type": "code",
   "execution_count": 16,
   "id": "95caff40-2e93-4f6c-86b5-da3a68bd102b",
   "metadata": {},
   "outputs": [],
   "source": [
    "board = Board2D(board_size=3)\n",
    "\n",
    "random_agent = RandomAgent()\n",
    "my_agent = MiniMaxAgent(neighbors_eval, depth=2)"
   ]
  },
  {
   "cell_type": "code",
   "execution_count": 17,
   "id": "9c74713d-6d3e-41bf-83ea-187b21d7a16f",
   "metadata": {},
   "outputs": [
    {
     "data": {
      "text/plain": [
       "{'MiniMaxAgent': 48, 'draw': 17, 'RandomAgent': 35}"
      ]
     },
     "execution_count": 17,
     "metadata": {},
     "output_type": "execute_result"
    }
   ],
   "source": [
    "simulate(board, random_agent, my_agent, 100)"
   ]
  }
 ],
 "metadata": {
  "kernelspec": {
   "display_name": "Python 3",
   "language": "python",
   "name": "python3"
  },
  "language_info": {
   "codemirror_mode": {
    "name": "ipython",
    "version": 3
   },
   "file_extension": ".py",
   "mimetype": "text/x-python",
   "name": "python",
   "nbconvert_exporter": "python",
   "pygments_lexer": "ipython3",
   "version": "3.8.6"
  }
 },
 "nbformat": 4,
 "nbformat_minor": 5
}
