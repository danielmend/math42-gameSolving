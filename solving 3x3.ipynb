{
 "cells": [
  {
   "cell_type": "code",
   "execution_count": 1,
   "id": "aabbb75f-b019-4668-894c-94474cf7a458",
   "metadata": {},
   "outputs": [],
   "source": [
    "from agent import RandomAgent, MiniMaxAgent\n",
    "from sim import simulate \n",
    "from tictactoe import Board2D\n",
    "import numpy as np"
   ]
  },
  {
   "cell_type": "code",
   "execution_count": 3,
   "id": "0d31d992-5816-4767-9f74-ced7af1bd53f",
   "metadata": {},
   "outputs": [],
   "source": [
    "def simple_eval(node, player):\n",
    "    board = node.state\n",
    "    \n",
    "    if board.get_winner() == player:\n",
    "        return 100\n",
    "    elif board.get_winner() == -player:\n",
    "        return -100\n",
    "    else:\n",
    "        return 0"
   ]
  },
  {
   "cell_type": "code",
   "execution_count": 7,
   "id": "f022f613-7313-4299-a11c-d3b5a941d7e2",
   "metadata": {},
   "outputs": [],
   "source": [
    "rand = RandomAgent()\n",
    "mini = MiniMaxAgent(simple_eval, depth=9)\n",
    "\n",
    "board = Board2D(board_size=3)"
   ]
  },
  {
   "cell_type": "code",
   "execution_count": 12,
   "id": "38e89bfb-4d85-4bc6-9d42-27cf68fe8027",
   "metadata": {},
   "outputs": [
    {
     "data": {
      "text/plain": [
       "{'draw': 12, 'RandomAgent': 0, 'MiniMaxAgent': 88}"
      ]
     },
     "execution_count": 12,
     "metadata": {},
     "output_type": "execute_result"
    }
   ],
   "source": [
    "simulate(board, rand, mini, num_sims=100, display=False)"
   ]
  },
  {
   "cell_type": "code",
   "execution_count": 13,
   "id": "e77d0582-56c1-4806-831a-435a59b38a4e",
   "metadata": {},
   "outputs": [
    {
     "data": {
      "text/plain": [
       "{'draw': 100, 'mini1': 0, 'mini2': 0}"
      ]
     },
     "execution_count": 13,
     "metadata": {},
     "output_type": "execute_result"
    }
   ],
   "source": [
    "mini1 = MiniMaxAgent(simple_eval, depth=9, name='mini1')\n",
    "mini2 = MiniMaxAgent(simple_eval, depth=9, name='mini2')\n",
    "\n",
    "board = Board2D(board_size=3)\n",
    "simulate(board, mini1, mini2, num_sims=100, display=False)"
   ]
  },
  {
   "cell_type": "markdown",
   "id": "aa605ef5-161b-4e2b-a119-b7d419728f59",
   "metadata": {},
   "source": [
    "This agent playing against itself will always draw and never loses to a random agent, which makes me believe it's optimal for 3x3."
   ]
  }
 ],
 "metadata": {
  "kernelspec": {
   "display_name": "Python 3",
   "language": "python",
   "name": "python3"
  },
  "language_info": {
   "codemirror_mode": {
    "name": "ipython",
    "version": 3
   },
   "file_extension": ".py",
   "mimetype": "text/x-python",
   "name": "python",
   "nbconvert_exporter": "python",
   "pygments_lexer": "ipython3",
   "version": "3.8.6"
  }
 },
 "nbformat": 4,
 "nbformat_minor": 5
}
