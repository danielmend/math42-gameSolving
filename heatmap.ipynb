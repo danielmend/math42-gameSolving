{
 "cells": [
  {
   "cell_type": "code",
   "execution_count": 1,
   "id": "1b17011d-7153-4443-aff9-4b9c62451e45",
   "metadata": {},
   "outputs": [],
   "source": [
    "from tictactoe import Board2D, TicTacToe\n",
    "from sim import simulate\n",
    "import matplotlib.pyplot as plt\n",
    "from agent import RandomAgent\n",
    "import numpy as np"
   ]
  },
  {
   "cell_type": "code",
   "execution_count": 2,
   "id": "a1ca1c9e-aaac-4130-855c-445092db345d",
   "metadata": {},
   "outputs": [],
   "source": [
    "rand1 = RandomAgent(name='rand1')\n",
    "rand2 = RandomAgent(name='rand2')\n",
    "\n",
    "board = Board2D(board_size=3)"
   ]
  },
  {
   "cell_type": "code",
   "execution_count": 3,
   "id": "090f93cf-6d0f-4e09-b010-4588fbd45c48",
   "metadata": {},
   "outputs": [],
   "source": [
    "order1 = TicTacToe(board, rand1, rand2)\n",
    "order2 = TicTacToe(board, rand2, rand1)\n",
    "\n",
    "sim = {\n",
    "    'draw': 0,\n",
    "    rand1.name: 0,\n",
    "    rand2.name: 0,\n",
    "}\n",
    "\n",
    "boards = []\n",
    "\n",
    "for _ in range(100):\n",
    "    res1, board1 = order1.sim_game(return_boards=True)\n",
    "    res2, board2 = order2.sim_game(return_boards=True)\n",
    "\n",
    "    sim[res1] = sim.get(res1, 0) + 1\n",
    "    sim[res2] = sim.get(res2, 0) + 1\n",
    "    \n",
    "    boards.extend(board1)\n",
    "    boards.extend([-x for x in board2])"
   ]
  },
  {
   "cell_type": "code",
   "execution_count": 4,
   "id": "346a1d14-7ae2-446f-b56a-4e898201b5bc",
   "metadata": {},
   "outputs": [],
   "source": [
    "boards = np.asarray(boards)"
   ]
  },
  {
   "cell_type": "markdown",
   "id": "c7b59028-b73e-4934-8508-cd991de49d54",
   "metadata": {},
   "source": [
    "## Rand Heatmap"
   ]
  },
  {
   "cell_type": "code",
   "execution_count": 5,
   "id": "e6879031-4cd1-4c96-82b1-300cc0b62795",
   "metadata": {},
   "outputs": [],
   "source": [
    "mask = [list(zip(*np.where(board != -1))) for board in boards if list(zip(*np.where(board != -1)))]"
   ]
  },
  {
   "cell_type": "code",
   "execution_count": 6,
   "id": "38d3c98e-0681-4e02-bd84-c493b41cac6d",
   "metadata": {},
   "outputs": [],
   "source": [
    "boards_masked = boards.copy()\n",
    "for idx in range(len(boards)):\n",
    "    for m in mask[idx]:\n",
    "        boards_masked[idx][m] = 0"
   ]
  },
  {
   "cell_type": "code",
   "execution_count": 7,
   "id": "767781fd-ee88-423e-a0a4-8f438919b0e6",
   "metadata": {},
   "outputs": [],
   "source": [
    "mean = np.mean(boards_masked, axis=0)"
   ]
  },
  {
   "cell_type": "code",
   "execution_count": 8,
   "id": "75b0f354-cc4b-44c3-97d1-6deb5bddd509",
   "metadata": {},
   "outputs": [
    {
     "data": {
      "text/plain": [
       "array([[0.09780047, 0.11429694, 0.11665357],\n",
       "       [0.10919089, 0.12175962, 0.11704635],\n",
       "       [0.11311862, 0.11390416, 0.09622938]])"
      ]
     },
     "execution_count": 8,
     "metadata": {},
     "output_type": "execute_result"
    }
   ],
   "source": [
    "mean/np.sum(mean) # normalized distrib"
   ]
  },
  {
   "cell_type": "markdown",
   "id": "7873b701-2ce9-46d0-af2d-209e93333093",
   "metadata": {},
   "source": [
    "## Center-seeking heatmap"
   ]
  },
  {
   "cell_type": "code",
   "execution_count": 9,
   "id": "73e86a17-9bfe-4fab-93d4-e7797b4f013a",
   "metadata": {},
   "outputs": [],
   "source": [
    "from eval_functions import my_eval_function\n",
    "from agent import MiniMaxAgent"
   ]
  },
  {
   "cell_type": "code",
   "execution_count": 10,
   "id": "f80f5211-6d69-47c4-b767-d86ff0d32e0e",
   "metadata": {},
   "outputs": [],
   "source": [
    "agent1 = MiniMaxAgent(my_eval_function, depth=2)\n",
    "\n",
    "order1 = TicTacToe(board, agent1, rand2)\n",
    "order2 = TicTacToe(board, rand2, agent1)\n",
    "\n",
    "sim = {\n",
    "    'draw': 0,\n",
    "    rand1.name: 0,\n",
    "    rand2.name: 0,\n",
    "}\n",
    "\n",
    "boards = []\n",
    "\n",
    "for _ in range(100):\n",
    "    res1, board1 = order1.sim_game(return_boards=True)\n",
    "    res2, board2 = order2.sim_game(return_boards=True)\n",
    "\n",
    "    sim[res1] = sim.get(res1, 0) + 1\n",
    "    sim[res2] = sim.get(res2, 0) + 1\n",
    "    \n",
    "    boards.extend(board1)\n",
    "    boards.extend([-x for x in board2])"
   ]
  },
  {
   "cell_type": "code",
   "execution_count": 11,
   "id": "2197cdaf-1227-4a0f-8965-c438c2805778",
   "metadata": {},
   "outputs": [],
   "source": [
    "mask = [list(zip(*np.where(board != -1))) for board in boards if list(zip(*np.where(board != -1)))]"
   ]
  },
  {
   "cell_type": "code",
   "execution_count": 12,
   "id": "ee4a30bd-974b-491f-a9eb-7750d0f97f35",
   "metadata": {},
   "outputs": [],
   "source": [
    "boards_masked = boards.copy()\n",
    "for idx in range(len(boards)):\n",
    "    for m in mask[idx]:\n",
    "        boards_masked[idx][m] = 0"
   ]
  },
  {
   "cell_type": "code",
   "execution_count": 13,
   "id": "d3a60a54-97cc-4c9b-b0c2-180eedd6673b",
   "metadata": {},
   "outputs": [
    {
     "data": {
      "text/plain": [
       "array([[0.01466594, 0.12873438, 0.01249321],\n",
       "       [0.12004345, 0.47963064, 0.11569799],\n",
       "       [0.01792504, 0.09451385, 0.01629549]])"
      ]
     },
     "execution_count": 13,
     "metadata": {},
     "output_type": "execute_result"
    }
   ],
   "source": [
    "mean = np.mean(boards_masked, axis=0)\n",
    "mean/np.sum(mean) # normalized distrib"
   ]
  },
  {
   "cell_type": "markdown",
   "id": "88ee046f-77a7-40cb-9738-14977996589d",
   "metadata": {},
   "source": [
    "## Two-in-a-row Heatmap"
   ]
  },
  {
   "cell_type": "code",
   "execution_count": 14,
   "id": "f0f64260-2e34-4df8-a8c8-9c23e6a24fc4",
   "metadata": {},
   "outputs": [],
   "source": [
    "def num_two_in_a_row(board, player):\n",
    "    if board.get_winner() == player:\n",
    "        return 10000000\n",
    "    elif board.get_winner() == -player:\n",
    "        return -10000000\n",
    "    \n",
    "    score = 0\n",
    "    \n",
    "    player_locs = list(zip(*np.where(board == player)))\n",
    "    for idx in range(len(player_locs)):\n",
    "        for idx2 in range(idx, len(player_locs)):\n",
    "            loc1 = np.asarray(player_locs[idx])\n",
    "            loc2 = np.asarray(player_locs[idx2])\n",
    "            if dist(loc1, loc2) <= np.sqrt(3):\n",
    "                score += 1\n",
    "                \n",
    "    other_player_locs = list(zip(*np.where(board == player)))\n",
    "    for idx in range(len(other_player_locs)):\n",
    "        for idx2 in range(idx, len(other_player_locs)):\n",
    "            loc1 = np.asarray(other_player_locs[idx])\n",
    "            loc2 = np.asarray(other_player_locs[idx2])\n",
    "            if dist(loc1, loc2) <= np.sqrt(3):\n",
    "                score -= 1\n",
    "            \n",
    "    return score"
   ]
  },
  {
   "cell_type": "code",
   "execution_count": 15,
   "id": "c22c3120-9a0b-4af7-ac1c-96dbbd67731f",
   "metadata": {},
   "outputs": [],
   "source": [
    "def eval_twos(node, player):\n",
    "    board = node.state\n",
    "    return num_two_in_a_row(board, player)"
   ]
  },
  {
   "cell_type": "code",
   "execution_count": 16,
   "id": "ba74453b-8dff-4717-9bf0-ae6b616192cb",
   "metadata": {},
   "outputs": [],
   "source": [
    "agent1 = MiniMaxAgent(eval_twos, depth=2)\n",
    "\n",
    "order1 = TicTacToe(board, agent1, rand2)\n",
    "order2 = TicTacToe(board, rand2, agent1)\n",
    "\n",
    "sim = {\n",
    "    'draw': 0,\n",
    "    rand1.name: 0,\n",
    "    rand2.name: 0,\n",
    "}\n",
    "\n",
    "boards = []\n",
    "\n",
    "for _ in range(100):\n",
    "    res1, board1 = order1.sim_game(return_boards=True)\n",
    "    res2, board2 = order2.sim_game(return_boards=True)\n",
    "\n",
    "    sim[res1] = sim.get(res1, 0) + 1\n",
    "    sim[res2] = sim.get(res2, 0) + 1\n",
    "    \n",
    "    boards.extend(board1)\n",
    "    boards.extend([-x for x in board2])"
   ]
  },
  {
   "cell_type": "code",
   "execution_count": 17,
   "id": "dedfdfd3-eb87-4cd5-82e2-f32952366208",
   "metadata": {},
   "outputs": [
    {
     "data": {
      "text/plain": [
       "array([[0.49019608, 0.20468675, 0.09182209],\n",
       "       [0.04638929, 0.05643233, 0.04112865],\n",
       "       [0.02725968, 0.02104256, 0.02104256]])"
      ]
     },
     "execution_count": 17,
     "metadata": {},
     "output_type": "execute_result"
    }
   ],
   "source": [
    "mask = [list(zip(*np.where(board != -1))) for board in boards if list(zip(*np.where(board != -1)))]\n",
    "boards_masked = boards.copy()\n",
    "for idx in range(len(boards)):\n",
    "    for m in mask[idx]:\n",
    "        boards_masked[idx][m] = 0\n",
    "mean = np.mean(boards_masked, axis=0)\n",
    "mean/np.sum(mean) # normalized distrib"
   ]
  },
  {
   "cell_type": "code",
   "execution_count": null,
   "id": "c46df651-4489-4b23-9361-7d04cf017a3f",
   "metadata": {},
   "outputs": [],
   "source": []
  }
 ],
 "metadata": {
  "kernelspec": {
   "display_name": "Python 3 (ipykernel)",
   "language": "python",
   "name": "python3"
  },
  "language_info": {
   "codemirror_mode": {
    "name": "ipython",
    "version": 3
   },
   "file_extension": ".py",
   "mimetype": "text/x-python",
   "name": "python",
   "nbconvert_exporter": "python",
   "pygments_lexer": "ipython3",
   "version": "3.10.7"
  }
 },
 "nbformat": 4,
 "nbformat_minor": 5
}
