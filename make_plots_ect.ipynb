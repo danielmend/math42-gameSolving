{
 "cells": [
  {
   "cell_type": "code",
   "execution_count": 144,
   "id": "3965cc45-5f4f-4a7a-8562-19c40381abd5",
   "metadata": {},
   "outputs": [],
   "source": [
    "from tictactoe import Board2D\n",
    "import numpy as np"
   ]
  },
  {
   "cell_type": "code",
   "execution_count": 145,
   "id": "6d378b1e-653b-4bb9-ae9f-7e398adfafa8",
   "metadata": {},
   "outputs": [
    {
     "name": "stdout",
     "output_type": "stream",
     "text": [
      "[[0. 0. 0.]\n",
      " [0. 0. 0.]\n",
      " [0. 0. 0.]]\n"
     ]
    }
   ],
   "source": [
    "x = Board2D(board_size = 3)\n",
    "print(x.board)"
   ]
  },
  {
   "cell_type": "code",
   "execution_count": 146,
   "id": "96d9c0dc-bdb7-4418-bb16-afb993e3d62e",
   "metadata": {},
   "outputs": [
    {
     "name": "stdout",
     "output_type": "stream",
     "text": [
      "[[-1.  0.  0.]\n",
      " [ 0.  0.  0.]\n",
      " [ 0.  0.  0.]]\n"
     ]
    }
   ],
   "source": [
    "x.place((0,0))\n",
    "print(x.board)"
   ]
  },
  {
   "cell_type": "code",
   "execution_count": 147,
   "id": "87fb6de9-ec32-4e61-b6b9-ffd6a14c0147",
   "metadata": {},
   "outputs": [
    {
     "name": "stdout",
     "output_type": "stream",
     "text": [
      "[[-1.  0.  0.]\n",
      " [ 1.  0.  0.]\n",
      " [ 0.  0.  0.]]\n"
     ]
    }
   ],
   "source": [
    "x.place((1,0))\n",
    "print(x.board)"
   ]
  },
  {
   "cell_type": "code",
   "execution_count": 148,
   "id": "bf910206-317a-4b47-bebf-42325a67f9ef",
   "metadata": {},
   "outputs": [],
   "source": [
    "from agent import RandomAgent\n",
    "from sim import simulate"
   ]
  },
  {
   "cell_type": "code",
   "execution_count": 149,
   "id": "b91432a9-9a38-452e-8451-02825e09be58",
   "metadata": {},
   "outputs": [],
   "source": [
    "rand1 = RandomAgent(name = 'rand1')\n",
    "rand2 = RandomAgent(name = 'rand2')\n",
    "\n",
    "board = Board2D(board_size = 3)"
   ]
  },
  {
   "cell_type": "code",
   "execution_count": 150,
   "id": "02feb291-0dea-4e61-80a5-5ffc0a0403e5",
   "metadata": {},
   "outputs": [
    {
     "name": "stdout",
     "output_type": "stream",
     "text": [
      "{'draw': 37, 'rand1': 31, 'rand2': 32}\n"
     ]
    }
   ],
   "source": [
    "results = simulate(board, rand1, rand2, num_sims = 100)\n",
    "print(results)"
   ]
  },
  {
   "cell_type": "code",
   "execution_count": 151,
   "id": "4a990b81-fcdd-4267-a78e-cd189f78a016",
   "metadata": {},
   "outputs": [],
   "source": [
    "from agent import MiniMaxAgent"
   ]
  },
  {
   "cell_type": "code",
   "execution_count": 152,
   "id": "4a5b05cd-fdd4-463b-935a-2b7dd77d8f50",
   "metadata": {
    "tags": []
   },
   "outputs": [],
   "source": [
    "def simple_eval(node, player): #+100 reward if winner of a position, -100 reward if loser, 0 otherwise\n",
    "    board = node.state\n",
    "    if board.get_winner() == player:\n",
    "        return 100\n",
    "    elif board.get_winner() == -player:\n",
    "        return -100\n",
    "    return 0"
   ]
  },
  {
   "cell_type": "code",
   "execution_count": 153,
   "id": "52397d89-8ed2-4d10-8dc7-53d4e31df6de",
   "metadata": {},
   "outputs": [
    {
     "name": "stdout",
     "output_type": "stream",
     "text": [
      "{'draw': 19, 'MiniMaxAgent': 79, 'rand1': 2}\n"
     ]
    }
   ],
   "source": [
    "mini = MiniMaxAgent(simple_eval, depth = 2)\n",
    "results = simulate(board, mini, rand1, num_sims = 100)\n",
    "print(results)"
   ]
  },
  {
   "cell_type": "code",
   "execution_count": 154,
   "id": "abef3d45-fb25-48d9-bf84-c675ac32d216",
   "metadata": {},
   "outputs": [],
   "source": [
    "def dist(loc1, loc2):\n",
    "    return np.square(loc1 - loc2).sum()"
   ]
  },
  {
   "cell_type": "code",
   "execution_count": 58,
   "id": "6181986f-782b-4adf-afd0-0c8ff72c6945",
   "metadata": {},
   "outputs": [],
   "source": [
    "def dist_from_center(loc, board):\n",
    "    center = np.asarray([board.shape[0]//2, board.shape[1]//2])\n",
    "    return dist(np.asarray(loc), center)"
   ]
  },
  {
   "cell_type": "code",
   "execution_count": 66,
   "id": "a0345f36-07e1-490b-bded-f1fe79721805",
   "metadata": {},
   "outputs": [],
   "source": [
    "def center_dist_eval(node, player):\n",
    "    board = node.state\n",
    "    score = 0\n",
    "    # i.e. gets the player we're evaluating the perspective of\n",
    "    my_pieces = zip(*np.where(board.board == player))\n",
    "    for loc in my_pieces:\n",
    "        score -= dist_from_center(loc, board.board)\n",
    "    return score + np.random.normal()"
   ]
  },
  {
   "cell_type": "code",
   "execution_count": 76,
   "id": "6bbf50f9-cc6e-42f0-be86-a85d8295abd9",
   "metadata": {},
   "outputs": [
    {
     "name": "stdout",
     "output_type": "stream",
     "text": [
      "{'draw': 19, 'MiniMaxAgent': 68, 'rand1': 13}\n"
     ]
    }
   ],
   "source": [
    "mini = MiniMaxAgent(center_dist_eval, depth = 2)\n",
    "results = simulate(board, mini, rand1, num_sims = 100)\n",
    "print(results)"
   ]
  },
  {
   "cell_type": "code",
   "execution_count": null,
   "id": "06e0e1da-eb9f-434e-932c-cf063b804b0b",
   "metadata": {},
   "outputs": [],
   "source": [
    "def center_piece(node, player): #which player has the center piece\n",
    "   "
   ]
  },
  {
   "cell_type": "code",
   "execution_count": 19,
   "id": "2f67fbf8-bf6f-409e-a029-1edfefff0f5e",
   "metadata": {},
   "outputs": [],
   "source": [
    "def edge_eval(node, player):\n",
    "    board = node.state.board\n",
    "    board_count = sum(board[:,0]) + sum(board[:,-1]) + sum(board[0]) + sum(board[-1])\n",
    "    minus_corner = board_count - board[0,0] - board[0, -1] - board[-1, -1] - board[-1, 0]\n",
    "    return (minus_corner) * player"
   ]
  },
  {
   "cell_type": "code",
   "execution_count": 70,
   "id": "d56ad226-2c19-4d2c-8276-c863ee01d44a",
   "metadata": {
    "tags": []
   },
   "outputs": [
    {
     "name": "stdout",
     "output_type": "stream",
     "text": [
      "{'draw': 24, 'MiniMaxAgent': 62, 'rand1': 14}\n"
     ]
    }
   ],
   "source": [
    "mini = MiniMaxAgent(edge_eval, depth = 2)\n",
    "results = simulate(board, mini, rand1, num_sims = 100)\n",
    "print(results)"
   ]
  },
  {
   "cell_type": "code",
   "execution_count": 84,
   "id": "36885ddc-61d0-4797-b77c-68e2d5926967",
   "metadata": {},
   "outputs": [],
   "source": [
    "def are_neighbors(loc1, loc2):\n",
    "    dim = len(loc1)\n",
    "    diff = np.asarray(loc1) - np.asarray(loc2)\n",
    "    return np.square(diff).sum() <= np.ones(shape=(dim,)).sum()\n"
   ]
  },
  {
   "cell_type": "code",
   "execution_count": 91,
   "id": "ecc37cc7-f1c4-48e3-9e8e-1279395d4aad",
   "metadata": {},
   "outputs": [],
   "source": [
    "def neighbors_eval(node, player):\n",
    "    board = node.state\n",
    "    score = 0\n",
    "    other_player = -player\n",
    "    \n",
    "    if board.get_winner() == player:\n",
    "        return 100\n",
    "    elif board.get_winner() == other_player:\n",
    "        return -100\n",
    "    \n",
    "    my_locs = list(zip(*np.where(board.board == player)))\n",
    "    \n",
    "    for loc in my_locs:\n",
    "        for loc2 in my_locs:\n",
    "            if are_neighbors(loc, loc2):\n",
    "                score+=1\n",
    "    return score"
   ]
  },
  {
   "cell_type": "code",
   "execution_count": 99,
   "id": "5dbfa430-d91f-46fb-8d21-56077a3f1e71",
   "metadata": {},
   "outputs": [
    {
     "name": "stdout",
     "output_type": "stream",
     "text": [
      "{'draw': 8, 'MiniMaxAgent': 88, 'rand1': 4}\n"
     ]
    }
   ],
   "source": [
    "mini = MiniMaxAgent(neighbors_eval, depth = 2)\n",
    "results = simulate(board, mini, rand1, num_sims = 100)\n",
    "print(results)"
   ]
  },
  {
   "cell_type": "code",
   "execution_count": 105,
   "id": "71909cce-1a3b-4453-8d35-79e891ac2146",
   "metadata": {},
   "outputs": [],
   "source": [
    "def two_in_a_row_eval(node, player):\n",
    "    board = node.state\n",
    "    score = 0\n",
    "    # i.e. gets the player we're evaluating the perspective of\n",
    "    my_pieces = zip(*np.where(board.board == player))\n",
    "   \n",
    "    if(board.get_winner() == player):\n",
    "        score = 1000\n",
    "    elif(board.get_winner() == -player):\n",
    "        score = -1000\n",
    "     \n",
    "    for i in range(board.board.shape[0]):\n",
    "        if sum(board.board[i]) == 2*player:\n",
    "            score += 10\n",
    "    for j in range(board.board.shape[1]):\n",
    "        if sum(board.board[:,j]) == 2*player:\n",
    "            score += 10\n",
    "    if sum(np.diag(board.board)) == 2*player:\n",
    "        score += 10\n",
    "    if sum(np.diag(np.fliplr(board.board))) == 2*player:\n",
    "        score += 10\n",
    "   \n",
    "    for i in range(board.board.shape[0]):\n",
    "        if sum(board.board[i]) == -2*player:\n",
    "            score -= 10\n",
    "    for j in range(board.board.shape[1]):\n",
    "        if sum(board.board[:,j]) == -2*player:\n",
    "            score -= 10\n",
    "    if sum(np.diag(board.board)) == -2*player:\n",
    "        score -= 10\n",
    "    if sum(np.diag(np.fliplr(board.board))) == -2*player:\n",
    "        score -= 10\n",
    "   \n",
    "    return score + np.random.normal()\n",
    "    # iterate through columns and check if they are 2 and an open color\n",
    "    # iterate through rows and check if they are 2 and an open color\n",
    "    # do this with diagonals as well\n"
   ]
  },
  {
   "cell_type": "code",
   "execution_count": 121,
   "id": "11fb1021-0b49-44ee-8b31-54110f8411b0",
   "metadata": {},
   "outputs": [
    {
     "name": "stdout",
     "output_type": "stream",
     "text": [
      "{'draw': 8, 'MiniMaxAgent': 92, 'rand1': 0}\n"
     ]
    }
   ],
   "source": [
    "mini = MiniMaxAgent(two_in_a_row_eval, depth = 2)\n",
    "results = simulate(board, mini, rand1, num_sims = 100)\n",
    "print(results)"
   ]
  },
  {
   "cell_type": "code",
   "execution_count": 127,
   "id": "44a2377c-def2-4d44-98ec-5cafda2955fd",
   "metadata": {},
   "outputs": [],
   "source": [
    "def longest_chain(node, player):\n",
    "    matrix = node.state.board\n",
    "\n",
    "    if(node.state.get_winner() == player):\n",
    "        score = 1000\n",
    "    elif(node.state.get_winner() == -player):\n",
    "        score = -1000\n",
    "    \n",
    "    max_1 = max(np.sum(matrix == player, axis = 0))\n",
    "    max_2 = max(np.sum(matrix == player, axis = 1))\n",
    "    max_diag1 = np.sum(np.diag(matrix == player))\n",
    "    max_diag2 = np.sum(np.diag(np.fliplr(matrix == player)))\n",
    "    \n",
    "    return max(max_1, max_2, max_diag1, max_diag2)"
   ]
  },
  {
   "cell_type": "code",
   "execution_count": 128,
   "id": "3f87023a-5b77-4b19-bf31-f5e7c6bcc8d4",
   "metadata": {},
   "outputs": [
    {
     "name": "stdout",
     "output_type": "stream",
     "text": [
      "{'draw': 12, 'MiniMaxAgent': 64, 'rand1': 24}\n"
     ]
    }
   ],
   "source": [
    "mini = MiniMaxAgent(longest_chain, depth = 1)\n",
    "results = simulate(board, mini, rand1, num_sims = 100)\n",
    "print(results)"
   ]
  },
  {
   "cell_type": "markdown",
   "id": "472f94c5-c88c-402d-ae4f-56123df96bed",
   "metadata": {},
   "source": [
    "The evauluation function edge_eval determines which player has more pieces on the edges of the board, and rewards the player with more edge pieces. \n",
    "\n",
    "simple_eval gives plus 100 if a player wins, -100 if a player loses, and 0 if it neither wins or loses.\n",
    "\n",
    "center_dist_eval evaluates the distance of the players from the center, with higher reward for being further away from center. \n",
    "\n",
    "Another evaluation function is neighbors_eval, which rewards when the pieces that are neighbors for each location are also in a player's control, so it rewards clusters.\n",
    "\n",
    "The evaluation function two_in_a_row_eval rewards the player with two pieces in a row, but subtracts when the opponent has two in a row. \n",
    "\n",
    "\n",
    "\n",
    "For lower depth, depth 1, out of 100 simulations:\n",
    "A simple random agent will always be around draw: 33, rand1: 33, rand2: 33\n",
    "\n",
    "Edge_eval is around draw: 15, MiniMaxAgent: 55, and rand: 30\n",
    "Simple_eval is around 14, MiniMaxAgent: 78 and rand: 8\n",
    "center_dist_eval is around draw: 22, MiniMaxAgent: 60, rand1: 18\n",
    "neighbors_eval: draw: 12, MiniMaxAgent: 84, rand: 4\n",
    "two_in_a_row_eval: draw: 14, MiniMaxAgent: 85, rand: 1\n",
    "\n",
    "So far, the two_in_a_row_eval is the best evaluation function, as it has the highest minimax agent\n",
    "\n",
    "For lower depth, depth 2, out of 100 simulations:\n",
    "Edge_eval is around draw: 24, MiniMaxAgent: 62, rand: 14\n",
    "Simple_eval is around draw: 19, MiniMaxAgent: 77, rand: 4\n",
    "center_dist_eval is around draw: 16, MiniMaxAgent: 68, rand: 4\n",
    "neighbors_eval: draw: 8, MiniMaxAgent: 88, rand: 4\n",
    "two_in_a_row_eval: draw 8, MiniMaxAgent: 91, rand1: 1\n",
    "\n",
    "\n",
    "For depth 2, neighbors_eval is still the best evaluation function as it has the highest minimax agent\n",
    "\n",
    "Clearly, edge_eval and center_dist_eval are doing the worst for win percentages, with simple_eval, then neighbors_eval, then two_in_a_row_eval preforming the best.\n"
   ]
  },
  {
   "cell_type": "code",
   "execution_count": 129,
   "id": "22759285-e7fe-4cf1-8ef6-d112b39a9c92",
   "metadata": {},
   "outputs": [],
   "source": [
    "eval_list = [edge_eval, simple_eval, center_dist_eval, neighbors_eval, two_in_a_row_eval]"
   ]
  },
  {
   "cell_type": "code",
   "execution_count": 118,
   "id": "e4214d5b-eb57-42ba-8ae1-2d9f0b7fcb66",
   "metadata": {},
   "outputs": [
    {
     "name": "stderr",
     "output_type": "stream",
     "text": [
      "  0%|                                                                                            | 0/5 [00:00<?, ?it/s]\n",
      "  0%|                                                                                            | 0/5 [00:00<?, ?it/s]\u001b[A\n",
      " 20%|████████████████▊                                                                   | 1/5 [00:05<00:22,  5.59s/it]\u001b[A\n",
      " 40%|█████████████████████████████████▌                                                  | 2/5 [00:14<00:22,  7.35s/it]\u001b[A\n",
      " 60%|██████████████████████████████████████████████████▍                                 | 3/5 [00:20<00:14,  7.07s/it]\u001b[A\n",
      " 80%|███████████████████████████████████████████████████████████████████▏                | 4/5 [00:35<00:09,  9.96s/it]\u001b[A\n",
      "100%|████████████████████████████████████████████████████████████████████████████████████| 5/5 [00:47<00:00,  9.46s/it]\u001b[A\n",
      " 20%|████████████████▊                                                                   | 1/5 [00:47<03:09, 47.32s/it]\n",
      "  0%|                                                                                            | 0/5 [00:00<?, ?it/s]\u001b[A\n",
      " 20%|████████████████▊                                                                   | 1/5 [00:08<00:33,  8.49s/it]\u001b[A\n",
      " 40%|█████████████████████████████████▌                                                  | 2/5 [00:20<00:32, 10.76s/it]\u001b[A\n",
      " 60%|██████████████████████████████████████████████████▍                                 | 3/5 [00:30<00:20, 10.44s/it]\u001b[A\n",
      " 80%|███████████████████████████████████████████████████████████████████▏                | 4/5 [00:49<00:13, 13.62s/it]\u001b[A\n",
      "100%|████████████████████████████████████████████████████████████████████████████████████| 5/5 [01:05<00:00, 13.07s/it]\u001b[A\n",
      " 40%|█████████████████████████████████▌                                                  | 2/5 [01:52<02:53, 57.93s/it]\n",
      "  0%|                                                                                            | 0/5 [00:00<?, ?it/s]\u001b[A\n",
      " 20%|████████████████▊                                                                   | 1/5 [00:06<00:27,  6.90s/it]\u001b[A\n",
      " 40%|█████████████████████████████████▌                                                  | 2/5 [00:17<00:28,  9.35s/it]\u001b[A\n",
      " 60%|██████████████████████████████████████████████████▍                                 | 3/5 [00:27<00:19,  9.54s/it]\u001b[A\n",
      " 80%|███████████████████████████████████████████████████████████████████▏                | 4/5 [00:42<00:11, 11.80s/it]\u001b[A\n",
      "100%|████████████████████████████████████████████████████████████████████████████████████| 5/5 [00:56<00:00, 11.28s/it]\u001b[A\n",
      " 60%|██████████████████████████████████████████████████▍                                 | 3/5 [02:49<01:54, 57.24s/it]\n",
      "  0%|                                                                                            | 0/5 [00:00<?, ?it/s]\u001b[A\n",
      " 20%|████████████████▊                                                                   | 1/5 [00:16<01:06, 16.61s/it]\u001b[A\n",
      " 40%|█████████████████████████████████▌                                                  | 2/5 [00:36<00:55, 18.39s/it]\u001b[A\n",
      " 60%|██████████████████████████████████████████████████▍                                 | 3/5 [00:51<00:33, 16.90s/it]\u001b[A\n",
      " 80%|███████████████████████████████████████████████████████████████████▏                | 4/5 [01:14<00:19, 19.35s/it]\u001b[A\n",
      "100%|████████████████████████████████████████████████████████████████████████████████████| 5/5 [01:36<00:00, 19.25s/it]\u001b[A\n",
      " 80%|███████████████████████████████████████████████████████████████████▏                | 4/5 [04:25<01:12, 72.64s/it]\n",
      "  0%|                                                                                            | 0/5 [00:00<?, ?it/s]\u001b[A\n",
      " 20%|████████████████▊                                                                   | 1/5 [00:12<00:50, 12.64s/it]\u001b[A\n",
      " 40%|█████████████████████████████████▌                                                  | 2/5 [00:29<00:46, 15.39s/it]\u001b[A\n",
      " 60%|██████████████████████████████████████████████████▍                                 | 3/5 [00:44<00:30, 15.02s/it]\u001b[A\n",
      " 80%|███████████████████████████████████████████████████████████████████▏                | 4/5 [01:06<00:17, 17.65s/it]\u001b[A\n",
      "100%|████████████████████████████████████████████████████████████████████████████████████| 5/5 [01:26<00:00, 17.21s/it]\u001b[A\n",
      "100%|████████████████████████████████████████████████████████████████████████████████████| 5/5 [05:51<00:00, 70.28s/it]\n"
     ]
    }
   ],
   "source": [
    "from tqdm import tqdm\n",
    "import pandas as pd\n",
    "\n",
    "eval_win_df = pd.DataFrame(columns = ['Edge Eval', 'Simple Eval', 'Center Dist Eval', \"Neighbor's Eval\", 'Two in a Row Eval'])\n",
    "eval_draw_df = pd.DataFrame(columns = ['Edge Eval', 'Simple Eval', 'Center Dist Eval', \"Neighbor's Eval\", 'Two in a Row Eval'])\n",
    "\n",
    "\n",
    "for eval_func in tqdm(eval_list):\n",
    "    agent_1 = MiniMaxAgent(eval_func, name = 'agent 1', depth = 2)\n",
    "    \n",
    "    list_tmp_win = []\n",
    "    list_tmp_draw = []\n",
    "    \n",
    "    for eval_func_2 in tqdm(eval_list):\n",
    "        agent_2 = MiniMaxAgent(eval_func_2, name = 'agent 2', depth = 2)\n",
    "        results = simulate(board, agent_1, agent_2, num_sims = 50)\n",
    "        list_tmp_win.append(results['agent 1'])\n",
    "        list_tmp_draw.append(results['draw'])\n",
    "        \n",
    "    eval_win_df.loc[len(eval_win_df)] = list_tmp_win\n",
    "    eval_draw_df.loc[len(eval_draw_df)] = list_tmp_draw\n",
    "    "
   ]
  },
  {
   "cell_type": "code",
   "execution_count": 133,
   "id": "05048a7c-fac1-4fb8-b18f-913424aac5fb",
   "metadata": {},
   "outputs": [
    {
     "name": "stderr",
     "output_type": "stream",
     "text": [
      " 57%|████████████████████████████████████████████████                                    | 4/7 [03:37<02:43, 54.36s/it]\n"
     ]
    },
    {
     "ename": "KeyboardInterrupt",
     "evalue": "",
     "output_type": "error",
     "traceback": [
      "\u001b[1;31m---------------------------------------------------------------------------\u001b[0m",
      "\u001b[1;31mKeyboardInterrupt\u001b[0m                         Traceback (most recent call last)",
      "Input \u001b[1;32mIn [133]\u001b[0m, in \u001b[0;36m<cell line: 3>\u001b[1;34m()\u001b[0m\n\u001b[0;32m      5\u001b[0m agent_center \u001b[38;5;241m=\u001b[39m MiniMaxAgent(center_dist_eval, name \u001b[38;5;241m=\u001b[39m \u001b[38;5;124m'\u001b[39m\u001b[38;5;124mcenter dist\u001b[39m\u001b[38;5;124m'\u001b[39m, depth \u001b[38;5;241m=\u001b[39m \u001b[38;5;241m1\u001b[39m)\n\u001b[0;32m      6\u001b[0m agent_chain \u001b[38;5;241m=\u001b[39m MiniMaxAgent(longest_chain, name \u001b[38;5;241m=\u001b[39m \u001b[38;5;124m'\u001b[39m\u001b[38;5;124mlongest chain\u001b[39m\u001b[38;5;124m'\u001b[39m, depth \u001b[38;5;241m=\u001b[39m \u001b[38;5;241m1\u001b[39m)\n\u001b[1;32m----> 8\u001b[0m results \u001b[38;5;241m=\u001b[39m \u001b[43msimulate\u001b[49m\u001b[43m(\u001b[49m\u001b[43mboard\u001b[49m\u001b[43m,\u001b[49m\u001b[43m \u001b[49m\u001b[43magent_center\u001b[49m\u001b[43m,\u001b[49m\u001b[43m \u001b[49m\u001b[43magent_chain\u001b[49m\u001b[43m,\u001b[49m\u001b[43m \u001b[49m\u001b[43mnum_sims\u001b[49m\u001b[43m \u001b[49m\u001b[38;5;241;43m=\u001b[39;49m\u001b[43m \u001b[49m\u001b[38;5;241;43m50\u001b[39;49m\u001b[43m)\u001b[49m\n\u001b[0;32m     10\u001b[0m res_list\u001b[38;5;241m.\u001b[39mappend(results)\n",
      "File \u001b[1;32m~\\math42project\\sim.py:15\u001b[0m, in \u001b[0;36msimulate\u001b[1;34m(board, agent1, agent2, num_sims, display)\u001b[0m\n\u001b[0;32m     13\u001b[0m \u001b[38;5;28;01mfor\u001b[39;00m _ \u001b[38;5;129;01min\u001b[39;00m \u001b[38;5;28mrange\u001b[39m(num_sims\u001b[38;5;241m/\u001b[39m\u001b[38;5;241m/\u001b[39m\u001b[38;5;241m2\u001b[39m):\n\u001b[0;32m     14\u001b[0m     res1 \u001b[38;5;241m=\u001b[39m order1\u001b[38;5;241m.\u001b[39msim_game(display\u001b[38;5;241m=\u001b[39mdisplay)\n\u001b[1;32m---> 15\u001b[0m     res2 \u001b[38;5;241m=\u001b[39m \u001b[43morder2\u001b[49m\u001b[38;5;241;43m.\u001b[39;49m\u001b[43msim_game\u001b[49m\u001b[43m(\u001b[49m\u001b[43mdisplay\u001b[49m\u001b[38;5;241;43m=\u001b[39;49m\u001b[43mdisplay\u001b[49m\u001b[43m)\u001b[49m\n\u001b[0;32m     17\u001b[0m     sim[res1] \u001b[38;5;241m=\u001b[39m sim\u001b[38;5;241m.\u001b[39mget(res1, \u001b[38;5;241m0\u001b[39m) \u001b[38;5;241m+\u001b[39m \u001b[38;5;241m1\u001b[39m\n\u001b[0;32m     18\u001b[0m     sim[res2] \u001b[38;5;241m=\u001b[39m sim\u001b[38;5;241m.\u001b[39mget(res2, \u001b[38;5;241m0\u001b[39m) \u001b[38;5;241m+\u001b[39m \u001b[38;5;241m1\u001b[39m\n",
      "File \u001b[1;32m~\\math42project\\tictactoe.py:133\u001b[0m, in \u001b[0;36mTicTacToe.sim_game\u001b[1;34m(self, display, return_boards)\u001b[0m\n\u001b[0;32m    131\u001b[0m     best_move \u001b[38;5;241m=\u001b[39m \u001b[38;5;28mself\u001b[39m\u001b[38;5;241m.\u001b[39magent1\u001b[38;5;241m.\u001b[39mevaluate(\u001b[38;5;28mself\u001b[39m\u001b[38;5;241m.\u001b[39mboard_wrapper)\n\u001b[0;32m    132\u001b[0m \u001b[38;5;28;01melse\u001b[39;00m:\n\u001b[1;32m--> 133\u001b[0m     best_move \u001b[38;5;241m=\u001b[39m \u001b[38;5;28;43mself\u001b[39;49m\u001b[38;5;241;43m.\u001b[39;49m\u001b[43magent2\u001b[49m\u001b[38;5;241;43m.\u001b[39;49m\u001b[43mevaluate\u001b[49m\u001b[43m(\u001b[49m\u001b[38;5;28;43mself\u001b[39;49m\u001b[38;5;241;43m.\u001b[39;49m\u001b[43mboard_wrapper\u001b[49m\u001b[43m)\u001b[49m\n\u001b[0;32m    134\u001b[0m \u001b[38;5;28mself\u001b[39m\u001b[38;5;241m.\u001b[39mboard_wrapper\u001b[38;5;241m.\u001b[39mplace(best_move)\n\u001b[0;32m    135\u001b[0m n_moves \u001b[38;5;241m+\u001b[39m\u001b[38;5;241m=\u001b[39m \u001b[38;5;241m1\u001b[39m\n",
      "File \u001b[1;32m~\\math42project\\agent.py:56\u001b[0m, in \u001b[0;36mMiniMaxAgent.evaluate\u001b[1;34m(self, board)\u001b[0m\n\u001b[0;32m     52\u001b[0m \u001b[38;5;124;03m'''\u001b[39;00m\n\u001b[0;32m     53\u001b[0m \u001b[38;5;124;03mboard -> best move\u001b[39;00m\n\u001b[0;32m     54\u001b[0m \u001b[38;5;124;03m'''\u001b[39;00m\n\u001b[0;32m     55\u001b[0m node \u001b[38;5;241m=\u001b[39m Node(board, \u001b[38;5;28;01mNone\u001b[39;00m, \u001b[38;5;28;01mNone\u001b[39;00m)\n\u001b[1;32m---> 56\u001b[0m \u001b[38;5;28;01mreturn\u001b[39;00m \u001b[38;5;28;43mself\u001b[39;49m\u001b[38;5;241;43m.\u001b[39;49m\u001b[43mevaluator\u001b[49m\u001b[38;5;241;43m.\u001b[39;49m\u001b[43mevaluate\u001b[49m\u001b[43m(\u001b[49m\u001b[43mnode\u001b[49m\u001b[43m)\u001b[49m\n",
      "File \u001b[1;32m~\\math42project\\agent.py:36\u001b[0m, in \u001b[0;36mMiniMaxEvaluator.evaluate\u001b[1;34m(self, node)\u001b[0m\n\u001b[0;32m     30\u001b[0m child_node \u001b[38;5;241m=\u001b[39m Node(\n\u001b[0;32m     31\u001b[0m     state\u001b[38;5;241m=\u001b[39mboard_copy,\n\u001b[0;32m     32\u001b[0m     parent\u001b[38;5;241m=\u001b[39m\u001b[38;5;28mself\u001b[39m,\n\u001b[0;32m     33\u001b[0m     move\u001b[38;5;241m=\u001b[39mmove,\n\u001b[0;32m     34\u001b[0m )\n\u001b[0;32m     35\u001b[0m player \u001b[38;5;241m=\u001b[39m (child_node\u001b[38;5;241m.\u001b[39mstate\u001b[38;5;241m.\u001b[39mcurrent_player\u001b[38;5;241m+\u001b[39m\u001b[38;5;241m1\u001b[39m)\u001b[38;5;241m%\u001b[39m\u001b[38;5;241m2\u001b[39m\n\u001b[1;32m---> 36\u001b[0m value \u001b[38;5;241m=\u001b[39m \u001b[43mminimax\u001b[49m\u001b[43m(\u001b[49m\u001b[43mchild_node\u001b[49m\u001b[43m,\u001b[49m\u001b[43m \u001b[49m\u001b[38;5;28;43mself\u001b[39;49m\u001b[38;5;241;43m.\u001b[39;49m\u001b[43mdepth\u001b[49m\u001b[43m,\u001b[49m\u001b[43m \u001b[49m\u001b[38;5;28;43;01mFalse\u001b[39;49;00m\u001b[43m,\u001b[49m\u001b[43m \u001b[49m\u001b[38;5;28;43mself\u001b[39;49m\u001b[38;5;241;43m.\u001b[39;49m\u001b[43meval_fn\u001b[49m\u001b[43m,\u001b[49m\u001b[43m \u001b[49m\u001b[43mplayer\u001b[49m\u001b[43m)\u001b[49m\n\u001b[0;32m     38\u001b[0m \u001b[38;5;28;01mif\u001b[39;00m value \u001b[38;5;241m>\u001b[39m best_eval:\n\u001b[0;32m     39\u001b[0m     best_move \u001b[38;5;241m=\u001b[39m move\n",
      "File \u001b[1;32m~\\math42project\\utils.py:40\u001b[0m, in \u001b[0;36mminimax\u001b[1;34m(node, depth, maximizing_player, eval_fn, player)\u001b[0m\n\u001b[0;32m     38\u001b[0m     value \u001b[38;5;241m=\u001b[39m np\u001b[38;5;241m.\u001b[39minf\n\u001b[0;32m     39\u001b[0m     \u001b[38;5;28;01mfor\u001b[39;00m child \u001b[38;5;129;01min\u001b[39;00m node\u001b[38;5;241m.\u001b[39mget_children():\n\u001b[1;32m---> 40\u001b[0m         value \u001b[38;5;241m=\u001b[39m \u001b[38;5;28mmin\u001b[39m(value, \u001b[43mminimax\u001b[49m\u001b[43m(\u001b[49m\u001b[43mchild\u001b[49m\u001b[43m,\u001b[49m\u001b[43m \u001b[49m\u001b[43mdepth\u001b[49m\u001b[38;5;241;43m-\u001b[39;49m\u001b[38;5;241;43m1\u001b[39;49m\u001b[43m,\u001b[49m\u001b[43m \u001b[49m\u001b[38;5;28;43;01mTrue\u001b[39;49;00m\u001b[43m,\u001b[49m\u001b[43m \u001b[49m\u001b[43meval_fn\u001b[49m\u001b[43m,\u001b[49m\u001b[43m \u001b[49m\u001b[43mplayer\u001b[49m\u001b[43m)\u001b[49m)\n\u001b[0;32m     42\u001b[0m \u001b[38;5;28;01mreturn\u001b[39;00m value\n",
      "File \u001b[1;32m~\\math42project\\utils.py:31\u001b[0m, in \u001b[0;36mminimax\u001b[1;34m(node, depth, maximizing_player, eval_fn, player)\u001b[0m\n\u001b[0;32m     29\u001b[0m \u001b[38;5;28;01mif\u001b[39;00m depth \u001b[38;5;241m==\u001b[39m \u001b[38;5;241m0\u001b[39m \u001b[38;5;129;01mor\u001b[39;00m node\u001b[38;5;241m.\u001b[39mstate\u001b[38;5;241m.\u001b[39mget_winner() \u001b[38;5;241m!=\u001b[39m \u001b[38;5;241m0\u001b[39m \u001b[38;5;129;01mor\u001b[39;00m \u001b[38;5;129;01mnot\u001b[39;00m \u001b[38;5;28mlist\u001b[39m(node\u001b[38;5;241m.\u001b[39mstate\u001b[38;5;241m.\u001b[39mget_legal_moves()):\n\u001b[0;32m     30\u001b[0m     piece \u001b[38;5;241m=\u001b[39m node\u001b[38;5;241m.\u001b[39mstate\u001b[38;5;241m.\u001b[39mpieces[player]\n\u001b[1;32m---> 31\u001b[0m     \u001b[38;5;28;01mreturn\u001b[39;00m \u001b[43meval_fn\u001b[49m\u001b[43m(\u001b[49m\u001b[43mnode\u001b[49m\u001b[43m,\u001b[49m\u001b[43m \u001b[49m\u001b[43mpiece\u001b[49m\u001b[43m)\u001b[49m\n\u001b[0;32m     33\u001b[0m \u001b[38;5;28;01mif\u001b[39;00m maximizing_player:\n\u001b[0;32m     34\u001b[0m     value \u001b[38;5;241m=\u001b[39m \u001b[38;5;241m-\u001b[39mnp\u001b[38;5;241m.\u001b[39minf\n",
      "Input \u001b[1;32mIn [66]\u001b[0m, in \u001b[0;36mcenter_dist_eval\u001b[1;34m(node, player)\u001b[0m\n\u001b[0;32m      5\u001b[0m my_pieces \u001b[38;5;241m=\u001b[39m \u001b[38;5;28mzip\u001b[39m(\u001b[38;5;241m*\u001b[39mnp\u001b[38;5;241m.\u001b[39mwhere(board\u001b[38;5;241m.\u001b[39mboard \u001b[38;5;241m==\u001b[39m player))\n\u001b[0;32m      6\u001b[0m \u001b[38;5;28;01mfor\u001b[39;00m loc \u001b[38;5;129;01min\u001b[39;00m my_pieces:\n\u001b[1;32m----> 7\u001b[0m     score \u001b[38;5;241m-\u001b[39m\u001b[38;5;241m=\u001b[39m \u001b[43mdist_from_center\u001b[49m\u001b[43m(\u001b[49m\u001b[43mloc\u001b[49m\u001b[43m,\u001b[49m\u001b[43m \u001b[49m\u001b[43mboard\u001b[49m\u001b[38;5;241;43m.\u001b[39;49m\u001b[43mboard\u001b[49m\u001b[43m)\u001b[49m\n\u001b[0;32m      8\u001b[0m \u001b[38;5;28;01mreturn\u001b[39;00m score \u001b[38;5;241m+\u001b[39m np\u001b[38;5;241m.\u001b[39mrandom\u001b[38;5;241m.\u001b[39mnormal()\n",
      "Input \u001b[1;32mIn [58]\u001b[0m, in \u001b[0;36mdist_from_center\u001b[1;34m(loc, board)\u001b[0m\n\u001b[0;32m      1\u001b[0m \u001b[38;5;28;01mdef\u001b[39;00m \u001b[38;5;21mdist_from_center\u001b[39m(loc, board):\n\u001b[0;32m      2\u001b[0m     center \u001b[38;5;241m=\u001b[39m np\u001b[38;5;241m.\u001b[39masarray([board\u001b[38;5;241m.\u001b[39mshape[\u001b[38;5;241m0\u001b[39m]\u001b[38;5;241m/\u001b[39m\u001b[38;5;241m/\u001b[39m\u001b[38;5;241m2\u001b[39m, board\u001b[38;5;241m.\u001b[39mshape[\u001b[38;5;241m1\u001b[39m]\u001b[38;5;241m/\u001b[39m\u001b[38;5;241m/\u001b[39m\u001b[38;5;241m2\u001b[39m])\n\u001b[1;32m----> 3\u001b[0m     \u001b[38;5;28;01mreturn\u001b[39;00m \u001b[43mdist\u001b[49m\u001b[43m(\u001b[49m\u001b[43mnp\u001b[49m\u001b[38;5;241;43m.\u001b[39;49m\u001b[43masarray\u001b[49m\u001b[43m(\u001b[49m\u001b[43mloc\u001b[49m\u001b[43m)\u001b[49m\u001b[43m,\u001b[49m\u001b[43m \u001b[49m\u001b[43mcenter\u001b[49m\u001b[43m)\u001b[49m\n",
      "Input \u001b[1;32mIn [57]\u001b[0m, in \u001b[0;36mdist\u001b[1;34m(loc1, loc2)\u001b[0m\n\u001b[0;32m      1\u001b[0m \u001b[38;5;28;01mdef\u001b[39;00m \u001b[38;5;21mdist\u001b[39m(loc1, loc2):\n\u001b[1;32m----> 2\u001b[0m     \u001b[38;5;28;01mreturn\u001b[39;00m np\u001b[38;5;241m.\u001b[39msquare(\u001b[43mloc1\u001b[49m\u001b[43m \u001b[49m\u001b[38;5;241;43m-\u001b[39;49m\u001b[43m \u001b[49m\u001b[43mloc2\u001b[49m)\u001b[38;5;241m.\u001b[39msum()\n",
      "\u001b[1;31mKeyboardInterrupt\u001b[0m: "
     ]
    }
   ],
   "source": [
    "res_list = []\n",
    "\n",
    "for n in tqdm(range(3,10)):\n",
    "    board = Board2D(board_size = n)\n",
    "    agent_center = MiniMaxAgent(center_dist_eval, name = 'center dist', depth = 1)\n",
    "    agent_chain = MiniMaxAgent(longest_chain, name = 'longest chain', depth = 1)\n",
    "    \n",
    "    results = simulate(board, agent_center, agent_chain, num_sims = 50)\n",
    "    \n",
    "    res_list.append(results)"
   ]
  },
  {
   "cell_type": "code",
   "execution_count": 137,
   "id": "60c153bd-6206-483e-8fec-341bbfaaf237",
   "metadata": {},
   "outputs": [],
   "source": [
    "def plot_agent_results(results, agent1, agent2, title, x, xlabel='', ylabel='', xticks=None):\n",
    "    sim_values = [list(x.values()) for x in results]\n",
    "    draws = [x[0]/sum(x) for x in sim_values] # get percentage\n",
    "    a1_winrate = [x[1]/sum(x) for x in sim_values]\n",
    "    a2_winrate = [x[2]/sum(x) for x in sim_values]\n",
    "    \n",
    "    res_df = pd.DataFrame({'draws':draws, f'{agent1.name} agent wins':a1_winrate, f'{agent2.name} agent wins':a2_winrate})\n",
    "    res_df.index = x\n",
    "    \n",
    "    res_df.plot(kind='bar', stacked=False, width=0.5, title=title, xlabel=xlabel, ylabel=ylabel)"
   ]
  },
  {
   "cell_type": "code",
   "execution_count": 138,
   "id": "7c8e8ccc-6c1f-478c-83e3-f69c7d483791",
   "metadata": {},
   "outputs": [
    {
     "data": {
      "image/png": "[encoded data removed]",
      "text/plain": [
       "<Figure size 432x288 with 1 Axes>"
      ]
     },
     "metadata": {
      "needs_background": "light"
     },
     "output_type": "display_data"
    }
   ],
   "source": [
    "agent_center = MiniMaxAgent(center_dist_eval, name = 'center dist', depth = 1)\n",
    "agent_chain = MiniMaxAgent(longest_chain, name = 'longest chain', depth = 1)\n",
    "plot_agent_results(res_list, agent_center, agent_chain, x = [3,4,5,6], xlabel='Board Size (n by n)', ylabel='rate', title='Longest Chain versus Center Distance')"
   ]
  },
  {
   "cell_type": "code",
   "execution_count": 140,
   "id": "c19e3c72-8877-4201-800c-e294badd0589",
   "metadata": {},
   "outputs": [
    {
     "name": "stderr",
     "output_type": "stream",
     "text": [
      "100%|████████████████████████████████████████████████████████████████████████████████████| 4/4 [02:30<00:00, 37.62s/it]\n"
     ]
    }
   ],
   "source": [
    "res_list2 = []\n",
    "\n",
    "for n in tqdm([3,4,5,6]):\n",
    "    board = Board2D(board_size = n)\n",
    "    agent_center = MiniMaxAgent(center_dist_eval, name = 'center dist', depth = 1)\n",
    "    agent_chain = MiniMaxAgent(two_in_a_row_eval, name = 'two in a row', depth = 1)\n",
    "    \n",
    "    results = simulate(board, agent_center, agent_chain, num_sims = 50)\n",
    "    \n",
    "    res_list2.append(results)"
   ]
  },
  {
   "cell_type": "code",
   "execution_count": 141,
   "id": "70d2e0f1-b952-4797-a4bd-5f12957de006",
   "metadata": {},
   "outputs": [
    {
     "data": {
      "image/png": "[encoded data removed]",
      "text/plain": [
       "<Figure size 432x288 with 1 Axes>"
      ]
     },
     "metadata": {
      "needs_background": "light"
     },
     "output_type": "display_data"
    }
   ],
   "source": [
    "agent_center = MiniMaxAgent(center_dist_eval, name = 'center dist', depth = 1)\n",
    "agent_chain = MiniMaxAgent(two_in_a_row_eval, name = 'two in a row', depth = 1)\n",
    "plot_agent_results(res_list2, agent_center, agent_chain, x = [3,4,5,6], xlabel='Board Size (n by n)', ylabel='rate', title='Two in a Row versus Center Distance')"
   ]
  },
  {
   "cell_type": "code",
   "execution_count": 119,
   "id": "6e36d6cb-647d-4493-950e-d61ffee24715",
   "metadata": {},
   "outputs": [
    {
     "data": {
      "text/plain": [
       "Text(0.5, 1.0, 'Win Percentage of eval on Y vs X')"
      ]
     },
     "execution_count": 119,
     "metadata": {},
     "output_type": "execute_result"
    },
    {
     "data": {
      "image/png": "[encoded data removed]",
      "text/plain": [
       "<Figure size 432x288 with 2 Axes>"
      ]
     },
     "metadata": {
      "needs_background": "light"
     },
     "output_type": "display_data"
    }
   ],
   "source": [
    "import seaborn as sns\n",
    "import matplotlib.pyplot as plt\n",
    "\n",
    "eval_win_df.index = eval_win_df.columns\n",
    "\n",
    "sns.heatmap(eval_win_df)\n",
    "plt.title(\"Win Percentage of eval on Y vs X\")"
   ]
  },
  {
   "cell_type": "code",
   "execution_count": 143,
   "id": "ba7f7178-7d0a-4071-8128-5a3e4711db60",
   "metadata": {},
   "outputs": [
    {
     "data": {
      "text/plain": [
       "Text(0.5, 1.0, 'Draw Percentage of eval on Y vs X')"
      ]
     },
     "execution_count": 143,
     "metadata": {},
     "output_type": "execute_result"
    },
    {
     "data": {
      "image/png": "[encoded data removed]",
      "text/plain": [
       "<Figure size 432x288 with 2 Axes>"
      ]
     },
     "metadata": {
      "needs_background": "light"
     },
     "output_type": "display_data"
    }
   ],
   "source": [
    "eval_draw_df.index = eval_draw_df.columns\n",
    "\n",
    "sns.heatmap(np.maximum(eval_draw_df.values, eval_draw_df.values.T), xticklabels = eval_draw_df.columns, yticklabels = eval_draw_df.columns)\n",
    "plt.title(\"Draw Percentage of eval on Y vs X\")"
   ]
  },
  {
   "cell_type": "code",
   "execution_count": null,
   "id": "dd9ff56a-4528-42b1-8f45-d28dbfe9061a",
   "metadata": {},
   "outputs": [],
   "source": []
  }
 ],
 "metadata": {
  "kernelspec": {
   "display_name": "Python 3 (ipykernel)",
   "language": "python",
   "name": "python3"
  },
  "language_info": {
   "codemirror_mode": {
    "name": "ipython",
    "version": 3
   },
   "file_extension": ".py",
   "mimetype": "text/x-python",
   "name": "python",
   "nbconvert_exporter": "python",
   "pygments_lexer": "ipython3",
   "version": "3.9.12"
  }
 },
 "nbformat": 4,
 "nbformat_minor": 5
}
