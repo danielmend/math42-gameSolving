{
 "cells": [
  {
   "cell_type": "markdown",
   "id": "3bd843a9-bcbd-47bb-8d77-104e3cef23f6",
   "metadata": {},
   "source": [
    "# Agent that beats random in 3x3x3 100/100 times."
   ]
  },
  {
   "cell_type": "code",
   "execution_count": 46,
   "id": "ea961bc7-79f4-42f9-af74-dfe993d73c28",
   "metadata": {},
   "outputs": [],
   "source": [
    "from tictactoe import Board3D, TicTacToe\n",
    "from sim import simulate\n",
    "from agent import RandomAgent, MiniMaxAgent\n",
    "from eval_functions import dist\n",
    "import numpy as np\n",
    "\n",
    "from utils import plot_agent_results"
   ]
  },
  {
   "cell_type": "code",
   "execution_count": 39,
   "id": "412eba98-0fc7-48ae-b5da-cefb499fa1ac",
   "metadata": {},
   "outputs": [],
   "source": [
    "def num_two_in_a_row(node, player):\n",
    "    board = node.state\n",
    "    \n",
    "    if board.get_winner() == player:\n",
    "        return 10000000\n",
    "    elif board.get_winner() == -player:\n",
    "        return -10000000\n",
    "    \n",
    "    score = 0\n",
    "    \n",
    "    matrix = board.board\n",
    "    \n",
    "    for i in range(matrix.shape[0]):\n",
    "        m_small = matrix[i,:,:]\n",
    "        score += 10 * np.count_nonzero(np.sum(m_small,axis=0)==(2*player))\n",
    "        score -= 10 * np.count_nonzero(np.sum(m_small,axis=0)==(-2*player))\n",
    "        score += 10 * np.count_nonzero(np.sum(m_small,axis=1)==(2*player))\n",
    "        score -= 10 * np.count_nonzero(np.sum(m_small,axis=1)==(-2*player))\n",
    "        \n",
    "        m_small = matrix[:,i,:]\n",
    "        score += 10 * np.count_nonzero(np.sum(m_small,axis=0)==(2*player))\n",
    "        score -= 10 * np.count_nonzero(np.sum(m_small,axis=0)==(-2*player))\n",
    "        score += 10 * np.count_nonzero(np.sum(m_small,axis=1)==(2*player))\n",
    "        score -= 10 * np.count_nonzero(np.sum(m_small,axis=1)==(-2*player))\n",
    "    \n",
    "    return score"
   ]
  },
  {
   "cell_type": "code",
   "execution_count": 42,
   "id": "0b7020e5-b779-49b6-9a8e-c2a8ca851225",
   "metadata": {},
   "outputs": [],
   "source": [
    "def center_dist(node, player):\n",
    "    board = node.state\n",
    "    if board.get_winner() == player:\n",
    "        return 10000000\n",
    "    elif board.get_winner() == -player:\n",
    "        return -10000000\n",
    "    center = np.array([1,1,1])\n",
    "    \n",
    "    player_locs = list(zip(*np.where(board == player)))\n",
    "    \n",
    "    sum_dist = 0\n",
    "    for coord in player_locs:\n",
    "        dist = np.linalg.norm(np.array([coord[0], coord[1], coord[2]]) - np.array(center))\n",
    "        sum_dist += dist\n",
    "        \n",
    "    return -sum_dist"
   ]
  },
  {
   "cell_type": "code",
   "execution_count": 17,
   "id": "c22ce460-6d48-46e7-a75f-bdcf3c3d6fa1",
   "metadata": {},
   "outputs": [],
   "source": [
    "rand = RandomAgent()"
   ]
  },
  {
   "cell_type": "code",
   "execution_count": 43,
   "id": "a6c4e22a-a66e-4aa7-8fdf-99eed633c96b",
   "metadata": {},
   "outputs": [],
   "source": [
    "agent3d_mm = MiniMaxAgent(num_two_in_a_row, depth=1, name='twos', using_ab_pruning = True)\n",
    "agent3d_cd = MiniMaxAgent(center_dist, depth=1, name='center distance', using_ab_pruning = True)"
   ]
  },
  {
   "cell_type": "code",
   "execution_count": 41,
   "id": "1fa9476e-7b17-49d0-9d88-cc03acfc2c6e",
   "metadata": {},
   "outputs": [
    {
     "data": {
      "text/plain": [
       "{'draw': 0, 'RandomAgent': 1, 'twos': 99}"
      ]
     },
     "execution_count": 41,
     "metadata": {},
     "output_type": "execute_result"
    }
   ],
   "source": [
    "simulate(Board3D(size=3), rand, agent3d_mm, num_sims=100)"
   ]
  },
  {
   "cell_type": "code",
   "execution_count": 44,
   "id": "eaa91bc2-6eab-470d-9122-872c875a11f7",
   "metadata": {},
   "outputs": [
    {
     "data": {
      "text/plain": [
       "{'draw': 0, 'RandomAgent': 0, 'center distance': 100}"
      ]
     },
     "execution_count": 44,
     "metadata": {},
     "output_type": "execute_result"
    }
   ],
   "source": [
    "simulate(Board3D(size=3), rand, agent3d_cd, num_sims=100)"
   ]
  },
  {
   "cell_type": "code",
   "execution_count": 45,
   "id": "a93474cb-72e0-462a-bcb5-21b4f29a2771",
   "metadata": {},
   "outputs": [
    {
     "data": {
      "text/plain": [
       "{'draw': 0, 'twos': 100, 'center distance': 0}"
      ]
     },
     "execution_count": 45,
     "metadata": {},
     "output_type": "execute_result"
    }
   ],
   "source": [
    "simulate(Board3D(size=3), agent3d_mm, agent3d_cd, num_sims=100)"
   ]
  },
  {
   "cell_type": "code",
   "execution_count": 49,
   "id": "d6f22d89-8ee3-45af-9b4b-aa8b3e74a29d",
   "metadata": {},
   "outputs": [
    {
     "data": {
      "image/png": "[encoded data removed]",
      "text/plain": [
       "<Figure size 432x288 with 1 Axes>"
      ]
     },
     "metadata": {
      "needs_background": "light"
     },
     "output_type": "display_data"
    }
   ],
   "source": [
    "res = {'draw': 0, 'twos': 100, 'center distance': 0}\n",
    "plot_agent_results([res], agent1 = agent3d_mm, agent2 = agent3d_cd, x=['Twos vs Center Distance'], title = 'Twos vs Center Distance')"
   ]
  },
  {
   "cell_type": "markdown",
   "id": "a2894257-3c6a-4837-b9ae-3864c6e12e28",
   "metadata": {},
   "source": [
    "## But it's just about as good as the neighbors baseline"
   ]
  },
  {
   "cell_type": "code",
   "execution_count": 50,
   "id": "00cd5fd0-fa14-4d91-8af7-5743e51c49d7",
   "metadata": {},
   "outputs": [],
   "source": [
    "from eval_functions import neighbors_eval\n",
    "\n",
    "neighbors_baseline = MiniMaxAgent(neighbors_eval, depth=2, name='neighbors')"
   ]
  },
  {
   "cell_type": "code",
   "execution_count": 51,
   "id": "5001b546-5112-467f-bf72-2294e87be5f9",
   "metadata": {},
   "outputs": [
    {
     "data": {
      "text/plain": [
       "{'draw': 0, 'neighbors': 50, 'twos': 50}"
      ]
     },
     "execution_count": 51,
     "metadata": {},
     "output_type": "execute_result"
    }
   ],
   "source": [
    "simulate(Board3D(size=3), neighbors_baseline, agent3d, num_sims=100)"
   ]
  },
  {
   "cell_type": "code",
   "execution_count": null,
   "id": "d15cd85e-1e4c-406a-a6c2-148c99a5c9b9",
   "metadata": {},
   "outputs": [],
   "source": []
  }
 ],
 "metadata": {
  "kernelspec": {
   "display_name": "Python 3",
   "language": "python",
   "name": "python3"
  },
  "language_info": {
   "codemirror_mode": {
    "name": "ipython",
    "version": 3
   },
   "file_extension": ".py",
   "mimetype": "text/x-python",
   "name": "python",
   "nbconvert_exporter": "python",
   "pygments_lexer": "ipython3",
   "version": "3.8.8"
  }
 },
 "nbformat": 4,
 "nbformat_minor": 5
}
