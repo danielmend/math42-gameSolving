{
 "cells": [
  {
   "cell_type": "markdown",
   "id": "3bd843a9-bcbd-47bb-8d77-104e3cef23f6",
   "metadata": {},
   "source": [
    "# Agent that beats random in 3x3x3 100/100 times."
   ]
  },
  {
   "cell_type": "code",
   "execution_count": 45,
   "id": "ea961bc7-79f4-42f9-af74-dfe993d73c28",
   "metadata": {},
   "outputs": [],
   "source": [
    "from tictactoe import Board3D, TicTacToe\n",
    "from sim import simulate\n",
    "from agent import RandomAgent, MiniMaxAgent\n",
    "from eval_functions import dist\n",
    "import numpy as np"
   ]
  },
  {
   "cell_type": "code",
   "execution_count": 46,
   "id": "412eba98-0fc7-48ae-b5da-cefb499fa1ac",
   "metadata": {},
   "outputs": [],
   "source": [
    "def num_two_in_a_row(board, player):\n",
    "    if board.get_winner() == player:\n",
    "        return 10000000\n",
    "    elif board.get_winner() == -player:\n",
    "        return -10000000\n",
    "    \n",
    "    score = 0\n",
    "    \n",
    "    player_locs = list(zip(*np.where(board == player)))\n",
    "    for idx in range(len(player_locs)):\n",
    "        for idx2 in range(idx, len(player_locs)):\n",
    "            loc1 = np.asarray(player_locs[idx])\n",
    "            loc2 = np.asarray(player_locs[idx2])\n",
    "            if dist(loc1, loc2) <= np.sqrt(3):\n",
    "                score += 1\n",
    "                \n",
    "    other_player_locs = list(zip(*np.where(board == player)))\n",
    "    for idx in range(len(other_player_locs)):\n",
    "        for idx2 in range(idx, len(other_player_locs)):\n",
    "            loc1 = np.asarray(other_player_locs[idx])\n",
    "            loc2 = np.asarray(other_player_locs[idx2])\n",
    "            if dist(loc1, loc2) <= np.sqrt(3):\n",
    "                score -= 1\n",
    "            \n",
    "    return score"
   ]
  },
  {
   "cell_type": "code",
   "execution_count": 47,
   "id": "e77eac05-da33-4059-a9ad-c04fafd86870",
   "metadata": {},
   "outputs": [],
   "source": [
    "def eval_for_3d(node):\n",
    "    board = node.state\n",
    "    player = board.pieces[(board.current_player+1)%2]\n",
    "    return num_two_in_a_row(board, player)"
   ]
  },
  {
   "cell_type": "code",
   "execution_count": 48,
   "id": "c22ce460-6d48-46e7-a75f-bdcf3c3d6fa1",
   "metadata": {},
   "outputs": [],
   "source": [
    "rand = RandomAgent()"
   ]
  },
  {
   "cell_type": "code",
   "execution_count": 49,
   "id": "a6c4e22a-a66e-4aa7-8fdf-99eed633c96b",
   "metadata": {},
   "outputs": [],
   "source": [
    "agent3d = MiniMaxAgent(eval_for_3d, depth=2, name='twos')"
   ]
  },
  {
   "cell_type": "code",
   "execution_count": 38,
   "id": "1fa9476e-7b17-49d0-9d88-cc03acfc2c6e",
   "metadata": {},
   "outputs": [
    {
     "data": {
      "text/plain": [
       "{'draw': 0, 'RandomAgent': 0, 'MiniMaxAgent': 100}"
      ]
     },
     "execution_count": 38,
     "metadata": {},
     "output_type": "execute_result"
    }
   ],
   "source": [
    "simulate(Board3D(size=3), rand, agent3d, num_sims=100)"
   ]
  },
  {
   "cell_type": "markdown",
   "id": "a2894257-3c6a-4837-b9ae-3864c6e12e28",
   "metadata": {},
   "source": [
    "## But it's just about as good as the neighbors baseline"
   ]
  },
  {
   "cell_type": "code",
   "execution_count": 50,
   "id": "00cd5fd0-fa14-4d91-8af7-5743e51c49d7",
   "metadata": {},
   "outputs": [],
   "source": [
    "from eval_functions import neighbors_eval\n",
    "\n",
    "neighbors_baseline = MiniMaxAgent(neighbors_eval, depth=2, name='neighbors')"
   ]
  },
  {
   "cell_type": "code",
   "execution_count": 51,
   "id": "5001b546-5112-467f-bf72-2294e87be5f9",
   "metadata": {},
   "outputs": [
    {
     "data": {
      "text/plain": [
       "{'draw': 0, 'neighbors': 50, 'twos': 50}"
      ]
     },
     "execution_count": 51,
     "metadata": {},
     "output_type": "execute_result"
    }
   ],
   "source": [
    "simulate(Board3D(size=3), neighbors_baseline, agent3d, num_sims=100)"
   ]
  },
  {
   "cell_type": "code",
   "execution_count": null,
   "id": "d15cd85e-1e4c-406a-a6c2-148c99a5c9b9",
   "metadata": {},
   "outputs": [],
   "source": []
  }
 ],
 "metadata": {
  "kernelspec": {
   "display_name": "Python 3",
   "language": "python",
   "name": "python3"
  },
  "language_info": {
   "codemirror_mode": {
    "name": "ipython",
    "version": 3
   },
   "file_extension": ".py",
   "mimetype": "text/x-python",
   "name": "python",
   "nbconvert_exporter": "python",
   "pygments_lexer": "ipython3",
   "version": "3.8.6"
  }
 },
 "nbformat": 4,
 "nbformat_minor": 5
}
