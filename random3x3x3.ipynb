{
 "cells": [
  {
   "cell_type": "code",
   "execution_count": 2,
   "id": "dc3157be-623a-4732-91cd-fc12d36246e0",
   "metadata": {},
   "outputs": [],
   "source": [
    "from tictactoe import Board3D, TicTacToe\n",
    "from sim import simulate\n",
    "from agent import RandomAgent, MiniMaxAgent\n",
    "from eval_functions import dist\n",
    "import numpy as np"
   ]
  },
  {
   "cell_type": "code",
   "execution_count": 3,
   "id": "c843679b-1917-427d-ab82-4988eee3eff1",
   "metadata": {},
   "outputs": [],
   "source": [
    "rand1 = RandomAgent(name='rand1')\n",
    "rand2 = RandomAgent(name='rand2')\n",
    "\n",
    "board = Board3D(board_size=3)"
   ]
  },
  {
   "cell_type": "code",
   "execution_count": 4,
   "id": "cd92b546-acd2-4326-b857-00b6b160922e",
   "metadata": {},
   "outputs": [],
   "source": [
    "order1 = TicTacToe(board, rand1, rand2)\n",
    "order2 = TicTacToe(board, rand2, rand1)\n",
    "\n",
    "sim = {\n",
    "    'draw': 0,\n",
    "    rand1.name: 0,\n",
    "    rand2.name: 0,\n",
    "}\n",
    "\n",
    "boards = []\n",
    "\n",
    "for _ in range(100):\n",
    "    res1, board1 = order1.sim_game(return_boards=True)\n",
    "    res2, board2 = order2.sim_game(return_boards=True)\n",
    "\n",
    "    sim[res1] = sim.get(res1, 0) + 1\n",
    "    sim[res2] = sim.get(res2, 0) + 1\n",
    "    \n",
    "    boards.extend(board1)\n",
    "    boards.extend([-x for x in board2])"
   ]
  },
  {
   "cell_type": "code",
   "execution_count": 5,
   "id": "5ac1867f-fa40-45c6-ad80-4e435115cef8",
   "metadata": {},
   "outputs": [],
   "source": [
    "res1, board1 = order1.sim_game(return_boards=True)\n",
    "res2, board2 = order2.sim_game(return_boards=True)"
   ]
  },
  {
   "cell_type": "code",
   "execution_count": 6,
   "id": "f150ebe1-2de3-42fa-aa44-4dc19f7e2db3",
   "metadata": {},
   "outputs": [],
   "source": [
    "boards = np.asarray(boards)"
   ]
  },
  {
   "cell_type": "code",
   "execution_count": 7,
   "id": "96570318-6596-4c24-b9d6-fb1547daf5cd",
   "metadata": {},
   "outputs": [],
   "source": [
    "mask = [list(zip(*np.where(board != -1))) for board in boards if list(zip(*np.where(board != -1)))]\n"
   ]
  },
  {
   "cell_type": "code",
   "execution_count": 8,
   "id": "7c8f8761-0e55-40b7-8e5d-2083b2620a08",
   "metadata": {},
   "outputs": [],
   "source": [
    "boards_masked = boards.copy()\n",
    "\n",
    "for idx in range(len(boards)):\n",
    "    for m in mask[idx]:\n",
    "        boards_masked[idx][m] = 0"
   ]
  },
  {
   "cell_type": "code",
   "execution_count": 9,
   "id": "758ca353-da6c-41fd-a53e-aa53c2a0fece",
   "metadata": {},
   "outputs": [],
   "source": [
    "mean = np.mean(boards_masked, axis=0)"
   ]
  },
  {
   "cell_type": "code",
   "execution_count": 10,
   "id": "1cc82aef-ebd0-42fa-9620-20a1677bd82a",
   "metadata": {},
   "outputs": [
    {
     "data": {
      "text/plain": [
       "array([[[0.04526244, 0.03449216, 0.02903885],\n",
       "        [0.03312883, 0.03544649, 0.04335378],\n",
       "        [0.02999318, 0.03653715, 0.04349012]],\n",
       "\n",
       "       [[0.04321745, 0.04689843, 0.03940014],\n",
       "        [0.03994547, 0.03435583, 0.03531016],\n",
       "        [0.04185412, 0.02862986, 0.03544649]],\n",
       "\n",
       "       [[0.03953647, 0.03408316, 0.03203817],\n",
       "        [0.03694615, 0.03531016, 0.03067485],\n",
       "        [0.0342195 , 0.03667348, 0.04471711]]])"
      ]
     },
     "execution_count": 10,
     "metadata": {},
     "output_type": "execute_result"
    }
   ],
   "source": [
    "mean/np.sum(mean)"
   ]
  },
  {
   "cell_type": "code",
   "execution_count": 11,
   "id": "428c157a-4942-4a39-a8c8-12eba93c5f47",
   "metadata": {},
   "outputs": [
    {
     "data": {
      "text/plain": [
       "{'draw': 0, 'rand1': 485, 'rand2': 515}"
      ]
     },
     "execution_count": 11,
     "metadata": {},
     "output_type": "execute_result"
    }
   ],
   "source": [
    "simulate(Board3D(size=3), rand1, rand2, num_sims=1000)"
   ]
  },
  {
   "cell_type": "code",
   "execution_count": 12,
   "id": "c487f393-2995-4d82-abec-07a6063f8644",
   "metadata": {},
   "outputs": [
    {
     "data": {
      "text/plain": [
       "{'draw': 0, 'rand1': 491, 'rand2': 509}"
      ]
     },
     "execution_count": 12,
     "metadata": {},
     "output_type": "execute_result"
    }
   ],
   "source": [
    "simulate(Board3D(size=4), rand1, rand2, num_sims=1000)"
   ]
  },
  {
   "cell_type": "code",
   "execution_count": 13,
   "id": "612f398b-5a28-4a55-9337-b686b48e109b",
   "metadata": {},
   "outputs": [
    {
     "data": {
      "text/plain": [
       "{'draw': 0, 'rand1': 524, 'rand2': 476}"
      ]
     },
     "execution_count": 13,
     "metadata": {},
     "output_type": "execute_result"
    }
   ],
   "source": [
    "simulate(Board3D(size=5), rand1, rand2, num_sims=1000)"
   ]
  },
  {
   "cell_type": "code",
   "execution_count": 14,
   "id": "4f95c4c1-5b7a-4c82-9603-88b8f538a3e2",
   "metadata": {},
   "outputs": [
    {
     "data": {
      "text/plain": [
       "{'draw': 0, 'rand1': 506, 'rand2': 494}"
      ]
     },
     "execution_count": 14,
     "metadata": {},
     "output_type": "execute_result"
    }
   ],
   "source": [
    "simulate(Board3D(size=6), rand1, rand2, num_sims=1000)"
   ]
  },
  {
   "cell_type": "code",
   "execution_count": 15,
   "id": "f0ff9312-b18b-48e1-8c5c-0c98a0c143cd",
   "metadata": {},
   "outputs": [
    {
     "data": {
      "text/plain": [
       "{'draw': 0, 'rand1': 517, 'rand2': 483}"
      ]
     },
     "execution_count": 15,
     "metadata": {},
     "output_type": "execute_result"
    }
   ],
   "source": [
    "simulate(Board3D(size=7), rand1, rand2, num_sims=1000)"
   ]
  },
  {
   "cell_type": "code",
   "execution_count": 16,
   "id": "cfa5b6c4-bac4-4a42-859d-27f0b3dc604b",
   "metadata": {},
   "outputs": [
    {
     "data": {
      "text/plain": [
       "{'draw': 0, 'rand1': 479, 'rand2': 521}"
      ]
     },
     "execution_count": 16,
     "metadata": {},
     "output_type": "execute_result"
    }
   ],
   "source": [
    "simulate(Board3D(size=8), rand1, rand2, num_sims=1000)"
   ]
  },
  {
   "cell_type": "code",
   "execution_count": 17,
   "id": "5257a4a7-c65d-4384-8596-b1315b686d00",
   "metadata": {},
   "outputs": [
    {
     "data": {
      "text/plain": [
       "{'draw': 0, 'rand1': 511, 'rand2': 489}"
      ]
     },
     "execution_count": 17,
     "metadata": {},
     "output_type": "execute_result"
    }
   ],
   "source": [
    "simulate(Board3D(size=9), rand1, rand2, num_sims=1000)"
   ]
  },
  {
   "cell_type": "code",
   "execution_count": 18,
   "id": "aedfe480-51ba-43c4-8b59-3159adebd592",
   "metadata": {},
   "outputs": [
    {
     "data": {
      "text/plain": [
       "{'draw': 0, 'rand1': 497, 'rand2': 503}"
      ]
     },
     "execution_count": 18,
     "metadata": {},
     "output_type": "execute_result"
    }
   ],
   "source": [
    "simulate(Board3D(size=10), rand1, rand2, num_sims=1000)"
   ]
  },
  {
   "cell_type": "code",
   "execution_count": 19,
   "id": "65bb25b0-1492-42f0-90a1-013728f2b2dc",
   "metadata": {},
   "outputs": [
    {
     "data": {
      "text/plain": [
       "{'draw': 0, 'rand1': 538, 'rand2': 462}"
      ]
     },
     "execution_count": 19,
     "metadata": {},
     "output_type": "execute_result"
    }
   ],
   "source": [
    "simulate(Board3D(size=11), rand1, rand2, num_sims=1000)"
   ]
  },
  {
   "cell_type": "code",
   "execution_count": 21,
   "id": "76722a41-4105-4941-ad27-b4b679d4f62b",
   "metadata": {},
   "outputs": [
    {
     "data": {
      "text/plain": [
       "{'draw': 0, 'rand1': 489, 'rand2': 511}"
      ]
     },
     "execution_count": 21,
     "metadata": {},
     "output_type": "execute_result"
    }
   ],
   "source": [
    "simulate(Board3D(size=20), rand1, rand2, num_sims=1000)"
   ]
  },
  {
   "cell_type": "code",
   "execution_count": 22,
   "id": "0eca9357-a0a3-4766-8f90-1fcaadb188ef",
   "metadata": {},
   "outputs": [],
   "source": [
    "def num_two_in_a_row(board, player):\n",
    "    if board.get_winner() == player:\n",
    "        return 10000000\n",
    "    elif board.get_winner() == -player:\n",
    "        return -10000000\n",
    "    \n",
    "    score = 0\n",
    "    \n",
    "    player_locs = list(zip(*np.where(board == player)))\n",
    "    for idx in range(len(player_locs)):\n",
    "        for idx2 in range(idx, len(player_locs)):\n",
    "            loc1 = np.asarray(player_locs[idx])\n",
    "            loc2 = np.asarray(player_locs[idx2])\n",
    "            if dist(loc1, loc2) <= np.sqrt(3):\n",
    "                score += 1\n",
    "                \n",
    "    other_player_locs = list(zip(*np.where(board == player)))\n",
    "    for idx in range(len(other_player_locs)):\n",
    "        for idx2 in range(idx, len(other_player_locs)):\n",
    "            loc1 = np.asarray(other_player_locs[idx])\n",
    "            loc2 = np.asarray(other_player_locs[idx2])\n",
    "            if dist(loc1, loc2) <= np.sqrt(3):\n",
    "                score -= 1\n",
    "            \n",
    "    return score"
   ]
  },
  {
   "cell_type": "code",
   "execution_count": 23,
   "id": "b02fcc5d-d57c-4ecb-aeb5-b5931a25f4c9",
   "metadata": {},
   "outputs": [],
   "source": [
    "def eval_for_3d(node, player):\n",
    "    board = node.state\n",
    "    return num_two_in_a_row(board, player)"
   ]
  },
  {
   "cell_type": "code",
   "execution_count": 24,
   "id": "91b09397-7fbd-48cf-b872-8ea3315bd51a",
   "metadata": {},
   "outputs": [],
   "source": [
    "agent3d = MiniMaxAgent(eval_for_3d, depth=2, name='twos')"
   ]
  },
  {
   "cell_type": "code",
   "execution_count": null,
   "id": "5469d4dc-91cd-4739-af1b-a3a0fb884025",
   "metadata": {},
   "outputs": [
    {
     "data": {
      "text/plain": [
       "{'draw': 0, 'rand1': 1, 'twos': 99}"
      ]
     },
     "execution_count": 26,
     "metadata": {},
     "output_type": "execute_result"
    }
   ],
   "source": [
    "simulate(Board3D(size=3), rand1, agent3d, num_sims=100)"
   ]
  },
  {
   "cell_type": "code",
   "execution_count": null,
   "id": "f52985af-c024-4c49-80ac-3ae68e1b4225",
   "metadata": {},
   "outputs": [],
   "source": []
  }
 ],
 "metadata": {
  "kernelspec": {
   "display_name": "Python 3 (ipykernel)",
   "language": "python",
   "name": "python3"
  },
  "language_info": {
   "codemirror_mode": {
    "name": "ipython",
    "version": 3
   },
   "file_extension": ".py",
   "mimetype": "text/x-python",
   "name": "python",
   "nbconvert_exporter": "python",
   "pygments_lexer": "ipython3",
   "version": "3.10.7"
  }
 },
 "nbformat": 4,
 "nbformat_minor": 5
}
