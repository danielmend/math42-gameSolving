{
 "cells": [
  {
   "cell_type": "markdown",
   "id": "1572d564-5bc1-4952-8995-e50dec1b1e8a",
   "metadata": {},
   "source": [
    "# Solving Tic Tac Toe Variants"
   ]
  },
  {
   "cell_type": "markdown",
   "id": "cbb00eff-5b42-4416-885e-70a60adabd86",
   "metadata": {},
   "source": [
    "## Abstract\n",
    "\n",
    "niket do ur magic :100:"
   ]
  },
  {
   "cell_type": "markdown",
   "id": "acf82840-94be-482e-baf7-9aae465dc23e",
   "metadata": {},
   "source": [
    "## Problem Description\n",
    "\n",
    "3x3 tic tac toe is easy, but due to the curse of dimensionality the state space grows much larger for 3x3x3 leading to a much more complex game. can these also be solved, and what is the most compute-efficient way in doing so?"
   ]
  },
  {
   "cell_type": "markdown",
   "id": "43a42053-6db0-4e36-8297-64dc513d540c",
   "metadata": {},
   "source": [
    "## Related Work\n",
    "\n",
    "Paper on n-dimensional tic-tac-toe with some useful theorems which we can use in our mathematical analysis: https://web.archive.org/web/20160429190326/http://library.msri.org/books/Book42/files/golomb.pdf\n",
    "\n",
    "Might be useful:\n",
    "https://www.math.ucdavis.edu/~linear/student_creations/TicTacToe.pdf\n",
    "\n",
    "\n",
    "Monte carlo tree search paper:\n",
    "https://www.aaai.org/Papers/AIIDE/2008/AIIDE08-036.pdf\n",
    "\n",
    "Wikipedia articles with saucy stuff: \n",
    "https://en.wikipedia.org/wiki/Hales%E2%80%93Jewett_theorem\n",
    "https://en.wikipedia.org/wiki/Nd_game#cite_note-:3-5"
   ]
  },
  {
   "cell_type": "markdown",
   "id": "badb8236-0ea4-47ba-af0b-7db42b198a7c",
   "metadata": {},
   "source": [
    "## Simplifications"
   ]
  },
  {
   "cell_type": "markdown",
   "id": "5a087d5d-9111-4734-8075-7d684eb9bcfd",
   "metadata": {},
   "source": [
    "Random agent vs random agent analysis goes here!"
   ]
  },
  {
   "cell_type": "markdown",
   "id": "215764d7-38b7-4491-b8fd-97a4248ee3c0",
   "metadata": {},
   "source": [
    "## Mathematical Model"
   ]
  },
  {
   "cell_type": "markdown",
   "id": "b53cac43-3fb1-45e5-9fdb-3bb4b33bd5d5",
   "metadata": {},
   "source": [
    "Here is where we introduce minimax. How does it work? What is its complexity? Etc etc"
   ]
  },
  {
   "cell_type": "markdown",
   "id": "ebefea37-700c-4503-bdea-47ef5c01b242",
   "metadata": {},
   "source": [
    "## Solution of the Mathematical Problem"
   ]
  },
  {
   "cell_type": "markdown",
   "id": "407d3d9a-b32e-4f87-be81-6c71d102d9dc",
   "metadata": {},
   "source": [
    "Solve 3x3 tic tac toe\n",
    "\n",
    "Introduce difficulties with 3x3x3 (depth issues!)\n",
    "\n",
    "Introduce the notion of handcrafted heuristic eval with inductive bias to improve performance\n",
    "\n",
    "Introduce MCTS as a more efficient way to search the state space"
   ]
  },
  {
   "cell_type": "markdown",
   "id": "febfddcb-b277-4c34-ba24-fb2f9543c318",
   "metadata": {},
   "source": [
    "## Results"
   ]
  },
  {
   "cell_type": "markdown",
   "id": "838069ca-c9bf-4119-bd75-1e3437c5da4a",
   "metadata": {},
   "source": [
    "optimal minimax 3x3\n",
    "\n",
    "performance of various heuristics in 3x3x3\n",
    "\n",
    "minimax vs. mcts (daniel analysis)\n",
    "\n",
    "alpha beta complexity/runtime analysis"
   ]
  },
  {
   "cell_type": "markdown",
   "id": "d7443163-2373-409d-952c-79164434b710",
   "metadata": {},
   "source": [
    "## Improvement"
   ]
  },
  {
   "cell_type": "markdown",
   "id": "b4375d0b-7b08-4126-a34a-157c211d4993",
   "metadata": {},
   "source": [
    "better heuristics\n",
    "\n",
    "RL methods\n",
    "\n",
    "transpotition tables/improving tree search"
   ]
  },
  {
   "cell_type": "markdown",
   "id": "0a27139b-5c02-4fcc-8a86-abae1efe08a4",
   "metadata": {},
   "source": [
    "## Conclusions"
   ]
  },
  {
   "cell_type": "markdown",
   "id": "ef3d3e90-136a-441e-92e9-46dc1e5bc4ba",
   "metadata": {},
   "source": [
    "## References"
   ]
  },
  {
   "cell_type": "code",
   "execution_count": null,
   "id": "fab906dd-1d79-4717-8ced-8db79068310b",
   "metadata": {},
   "outputs": [],
   "source": []
  }
 ],
 "metadata": {
  "kernelspec": {
   "display_name": "Python 3",
   "language": "python",
   "name": "python3"
  },
  "language_info": {
   "codemirror_mode": {
    "name": "ipython",
    "version": 3
   },
   "file_extension": ".py",
   "mimetype": "text/x-python",
   "name": "python",
   "nbconvert_exporter": "python",
   "pygments_lexer": "ipython3",
   "version": "3.8.6"
  }
 },
 "nbformat": 4,
 "nbformat_minor": 5
}
